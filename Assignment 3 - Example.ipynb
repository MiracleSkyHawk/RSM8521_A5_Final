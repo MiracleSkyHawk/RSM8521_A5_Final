{
 "cells": [
  {
   "cell_type": "code",
   "execution_count": 2,
   "metadata": {
    "id": "RRUc09ttIaSK"
   },
   "outputs": [],
   "source": [
    "import pandas as pd\n",
    "import numpy as np\n",
    "from sklearn.ensemble import RandomForestClassifier\n",
    "from sklearn.model_selection import train_test_split\n",
    "from sklearn.metrics import roc_auc_score"
   ]
  },
  {
   "cell_type": "markdown",
   "metadata": {
    "id": "EezAWWf6IaSQ"
   },
   "source": [
    "# Load Data\n",
    "\n",
    "Upload the files to your Google Drive and mount it in the Colab notebook using the code below.\n",
    "\n",
    "Files: `promos.csv.gz`, `test_history.csv.gz`, `train_history.csv.gz`, and `transactions.csv.gz`."
   ]
  },
  {
   "cell_type": "code",
   "execution_count": 3,
   "metadata": {
    "id": "RWSJpsyKqHjH"
   },
   "outputs": [],
   "source": [
    "# This will ask you to give Colab permission to access your Google Drive \n",
    "# and enter an authorization code.\n",
    "# See: https://colab.research.google.com/notebooks/io.ipynb#scrollTo=u22w3BFiOveA\n",
    "# from google.colab import drive\n",
    "# drive.mount('/content/drive')"
   ]
  },
  {
   "cell_type": "code",
   "execution_count": 4,
   "metadata": {
    "id": "FXnuCisKOkzr"
   },
   "outputs": [],
   "source": [
    "# MODIFY THIS LINE with the path to where you saved the datafiles on your Google drive\n",
    "# path = '/content/drive/My Drive/Colab Notebooks/RSM8521 - Assignment 3/'"
   ]
  },
  {
   "cell_type": "code",
   "execution_count": 5,
   "metadata": {
    "id": "Tiufe72OIaSQ"
   },
   "outputs": [
    {
     "data": {
      "text/html": [
       "<div>\n",
       "<style scoped>\n",
       "    .dataframe tbody tr th:only-of-type {\n",
       "        vertical-align: middle;\n",
       "    }\n",
       "\n",
       "    .dataframe tbody tr th {\n",
       "        vertical-align: top;\n",
       "    }\n",
       "\n",
       "    .dataframe thead th {\n",
       "        text-align: right;\n",
       "    }\n",
       "</style>\n",
       "<table border=\"1\" class=\"dataframe\">\n",
       "  <thead>\n",
       "    <tr style=\"text-align: right;\">\n",
       "      <th></th>\n",
       "      <th>promo</th>\n",
       "      <th>category</th>\n",
       "      <th>promoqty</th>\n",
       "      <th>manufacturer</th>\n",
       "      <th>promoval</th>\n",
       "      <th>brand</th>\n",
       "    </tr>\n",
       "  </thead>\n",
       "  <tbody>\n",
       "    <tr>\n",
       "      <th>0</th>\n",
       "      <td>209524</td>\n",
       "      <td>51006740</td>\n",
       "      <td>1</td>\n",
       "      <td>1593002228</td>\n",
       "      <td>1.00</td>\n",
       "      <td>189092190</td>\n",
       "    </tr>\n",
       "    <tr>\n",
       "      <th>1</th>\n",
       "      <td>176321</td>\n",
       "      <td>42760698</td>\n",
       "      <td>1</td>\n",
       "      <td>1957688344</td>\n",
       "      <td>0.75</td>\n",
       "      <td>1386413202</td>\n",
       "    </tr>\n",
       "    <tr>\n",
       "      <th>2</th>\n",
       "      <td>17125</td>\n",
       "      <td>56844954</td>\n",
       "      <td>1</td>\n",
       "      <td>629075831</td>\n",
       "      <td>1.50</td>\n",
       "      <td>1429623935</td>\n",
       "    </tr>\n",
       "    <tr>\n",
       "      <th>3</th>\n",
       "      <td>177412</td>\n",
       "      <td>56844954</td>\n",
       "      <td>1</td>\n",
       "      <td>629075831</td>\n",
       "      <td>1.50</td>\n",
       "      <td>1429623935</td>\n",
       "    </tr>\n",
       "    <tr>\n",
       "      <th>4</th>\n",
       "      <td>69839</td>\n",
       "      <td>56844954</td>\n",
       "      <td>1</td>\n",
       "      <td>629075831</td>\n",
       "      <td>1.50</td>\n",
       "      <td>1429623935</td>\n",
       "    </tr>\n",
       "  </tbody>\n",
       "</table>\n",
       "</div>"
      ],
      "text/plain": [
       "    promo  category  promoqty  manufacturer  promoval       brand\n",
       "0  209524  51006740         1    1593002228      1.00   189092190\n",
       "1  176321  42760698         1    1957688344      0.75  1386413202\n",
       "2   17125  56844954         1     629075831      1.50  1429623935\n",
       "3  177412  56844954         1     629075831      1.50  1429623935\n",
       "4   69839  56844954         1     629075831      1.50  1429623935"
      ]
     },
     "execution_count": 5,
     "metadata": {},
     "output_type": "execute_result"
    }
   ],
   "source": [
    "# promos = pd.read_csv(path + '/promos.csv.gz')\n",
    "promos = pd.read_csv('promos.csv.gz')\n",
    "promos.head()"
   ]
  },
  {
   "cell_type": "code",
   "execution_count": 6,
   "metadata": {
    "id": "nSmAvmYnIaSS"
   },
   "outputs": [
    {
     "data": {
      "text/html": [
       "<div>\n",
       "<style scoped>\n",
       "    .dataframe tbody tr th:only-of-type {\n",
       "        vertical-align: middle;\n",
       "    }\n",
       "\n",
       "    .dataframe tbody tr th {\n",
       "        vertical-align: top;\n",
       "    }\n",
       "\n",
       "    .dataframe thead th {\n",
       "        text-align: right;\n",
       "    }\n",
       "</style>\n",
       "<table border=\"1\" class=\"dataframe\">\n",
       "  <thead>\n",
       "    <tr style=\"text-align: right;\">\n",
       "      <th></th>\n",
       "      <th>id</th>\n",
       "      <th>store</th>\n",
       "      <th>promo</th>\n",
       "      <th>region</th>\n",
       "      <th>promodate</th>\n",
       "      <th>active</th>\n",
       "    </tr>\n",
       "  </thead>\n",
       "  <tbody>\n",
       "    <tr>\n",
       "      <th>0</th>\n",
       "      <td>115562959531</td>\n",
       "      <td>860548</td>\n",
       "      <td>176321</td>\n",
       "      <td>243820</td>\n",
       "      <td>2013-03-25</td>\n",
       "      <td>0.0</td>\n",
       "    </tr>\n",
       "    <tr>\n",
       "      <th>1</th>\n",
       "      <td>175261390705</td>\n",
       "      <td>625933</td>\n",
       "      <td>37568</td>\n",
       "      <td>191747</td>\n",
       "      <td>2013-03-15</td>\n",
       "      <td>0.0</td>\n",
       "    </tr>\n",
       "    <tr>\n",
       "      <th>2</th>\n",
       "      <td>273751574633</td>\n",
       "      <td>527828</td>\n",
       "      <td>209524</td>\n",
       "      <td>165933</td>\n",
       "      <td>2013-03-23</td>\n",
       "      <td>1.0</td>\n",
       "    </tr>\n",
       "    <tr>\n",
       "      <th>3</th>\n",
       "      <td>166923268906</td>\n",
       "      <td>1056730</td>\n",
       "      <td>214816</td>\n",
       "      <td>5506</td>\n",
       "      <td>2013-03-20</td>\n",
       "      <td>0.0</td>\n",
       "    </tr>\n",
       "    <tr>\n",
       "      <th>4</th>\n",
       "      <td>135410903443</td>\n",
       "      <td>241369</td>\n",
       "      <td>176321</td>\n",
       "      <td>278897</td>\n",
       "      <td>2013-03-25</td>\n",
       "      <td>0.0</td>\n",
       "    </tr>\n",
       "  </tbody>\n",
       "</table>\n",
       "</div>"
      ],
      "text/plain": [
       "             id    store   promo  region  promodate  active\n",
       "0  115562959531   860548  176321  243820 2013-03-25     0.0\n",
       "1  175261390705   625933   37568  191747 2013-03-15     0.0\n",
       "2  273751574633   527828  209524  165933 2013-03-23     1.0\n",
       "3  166923268906  1056730  214816    5506 2013-03-20     0.0\n",
       "4  135410903443   241369  176321  278897 2013-03-25     0.0"
      ]
     },
     "execution_count": 6,
     "metadata": {},
     "output_type": "execute_result"
    }
   ],
   "source": [
    "# train_history = pd.read_csv(path + '/train_history.csv.gz', parse_dates=['promodate'])\n",
    "train_history = pd.read_csv('train_history.csv.gz', parse_dates=['promodate'])\n",
    "train_history.head()"
   ]
  },
  {
   "cell_type": "code",
   "execution_count": 7,
   "metadata": {
    "id": "__RrtX-SIaST"
   },
   "outputs": [
    {
     "data": {
      "text/html": [
       "<div>\n",
       "<style scoped>\n",
       "    .dataframe tbody tr th:only-of-type {\n",
       "        vertical-align: middle;\n",
       "    }\n",
       "\n",
       "    .dataframe tbody tr th {\n",
       "        vertical-align: top;\n",
       "    }\n",
       "\n",
       "    .dataframe thead th {\n",
       "        text-align: right;\n",
       "    }\n",
       "</style>\n",
       "<table border=\"1\" class=\"dataframe\">\n",
       "  <thead>\n",
       "    <tr style=\"text-align: right;\">\n",
       "      <th></th>\n",
       "      <th>id</th>\n",
       "      <th>store</th>\n",
       "      <th>promo</th>\n",
       "      <th>region</th>\n",
       "      <th>promodate</th>\n",
       "      <th>active</th>\n",
       "    </tr>\n",
       "  </thead>\n",
       "  <tbody>\n",
       "    <tr>\n",
       "      <th>0</th>\n",
       "      <td>250462324156</td>\n",
       "      <td>457755</td>\n",
       "      <td>96852</td>\n",
       "      <td>191747</td>\n",
       "      <td>2013-04-22</td>\n",
       "      <td>NaN</td>\n",
       "    </tr>\n",
       "    <tr>\n",
       "      <th>1</th>\n",
       "      <td>61214568335</td>\n",
       "      <td>740794</td>\n",
       "      <td>54956</td>\n",
       "      <td>203586</td>\n",
       "      <td>2013-04-23</td>\n",
       "      <td>NaN</td>\n",
       "    </tr>\n",
       "    <tr>\n",
       "      <th>2</th>\n",
       "      <td>274776763999</td>\n",
       "      <td>394092</td>\n",
       "      <td>95011</td>\n",
       "      <td>42773</td>\n",
       "      <td>2013-04-02</td>\n",
       "      <td>NaN</td>\n",
       "    </tr>\n",
       "    <tr>\n",
       "      <th>3</th>\n",
       "      <td>91546215019</td>\n",
       "      <td>876095</td>\n",
       "      <td>108237</td>\n",
       "      <td>323706</td>\n",
       "      <td>2013-04-24</td>\n",
       "      <td>NaN</td>\n",
       "    </tr>\n",
       "    <tr>\n",
       "      <th>4</th>\n",
       "      <td>220718580189</td>\n",
       "      <td>625933</td>\n",
       "      <td>222088</td>\n",
       "      <td>191747</td>\n",
       "      <td>2013-04-18</td>\n",
       "      <td>NaN</td>\n",
       "    </tr>\n",
       "  </tbody>\n",
       "</table>\n",
       "</div>"
      ],
      "text/plain": [
       "             id   store   promo  region  promodate  active\n",
       "0  250462324156  457755   96852  191747 2013-04-22     NaN\n",
       "1   61214568335  740794   54956  203586 2013-04-23     NaN\n",
       "2  274776763999  394092   95011   42773 2013-04-02     NaN\n",
       "3   91546215019  876095  108237  323706 2013-04-24     NaN\n",
       "4  220718580189  625933  222088  191747 2013-04-18     NaN"
      ]
     },
     "execution_count": 7,
     "metadata": {},
     "output_type": "execute_result"
    }
   ],
   "source": [
    "# test_history = pd.read_csv(path + '/test_history.csv.gz', parse_dates=['promodate'])\n",
    "test_history = pd.read_csv('test_history.csv.gz', parse_dates=['promodate'])\n",
    "test_history.head()"
   ]
  },
  {
   "cell_type": "code",
   "execution_count": 8,
   "metadata": {
    "id": "l_QK95DxIaSU"
   },
   "outputs": [
    {
     "data": {
      "text/html": [
       "<div>\n",
       "<style scoped>\n",
       "    .dataframe tbody tr th:only-of-type {\n",
       "        vertical-align: middle;\n",
       "    }\n",
       "\n",
       "    .dataframe tbody tr th {\n",
       "        vertical-align: top;\n",
       "    }\n",
       "\n",
       "    .dataframe thead th {\n",
       "        text-align: right;\n",
       "    }\n",
       "</style>\n",
       "<table border=\"1\" class=\"dataframe\">\n",
       "  <thead>\n",
       "    <tr style=\"text-align: right;\">\n",
       "      <th></th>\n",
       "      <th>id</th>\n",
       "      <th>store</th>\n",
       "      <th>market_group</th>\n",
       "      <th>category</th>\n",
       "      <th>manufacturer</th>\n",
       "      <th>brand</th>\n",
       "      <th>date</th>\n",
       "      <th>productsize</th>\n",
       "      <th>measure</th>\n",
       "      <th>qty</th>\n",
       "      <th>amt</th>\n",
       "    </tr>\n",
       "  </thead>\n",
       "  <tbody>\n",
       "    <tr>\n",
       "      <th>0</th>\n",
       "      <td>31924309471</td>\n",
       "      <td>96431</td>\n",
       "      <td>360548</td>\n",
       "      <td>10881580</td>\n",
       "      <td>707582354</td>\n",
       "      <td>109487351</td>\n",
       "      <td>2012-03-06</td>\n",
       "      <td>28.00</td>\n",
       "      <td>OZ</td>\n",
       "      <td>1</td>\n",
       "      <td>2.69</td>\n",
       "    </tr>\n",
       "    <tr>\n",
       "      <th>1</th>\n",
       "      <td>31924309471</td>\n",
       "      <td>96431</td>\n",
       "      <td>80472</td>\n",
       "      <td>75959720</td>\n",
       "      <td>2052533430</td>\n",
       "      <td>254982935</td>\n",
       "      <td>2012-03-06</td>\n",
       "      <td>12.00</td>\n",
       "      <td>OZ</td>\n",
       "      <td>2</td>\n",
       "      <td>8.48</td>\n",
       "    </tr>\n",
       "    <tr>\n",
       "      <th>2</th>\n",
       "      <td>31924309471</td>\n",
       "      <td>96431</td>\n",
       "      <td>194893</td>\n",
       "      <td>80209099</td>\n",
       "      <td>1640770606</td>\n",
       "      <td>1252530761</td>\n",
       "      <td>2012-03-06</td>\n",
       "      <td>6.00</td>\n",
       "      <td>OZ</td>\n",
       "      <td>1</td>\n",
       "      <td>1.69</td>\n",
       "    </tr>\n",
       "    <tr>\n",
       "      <th>3</th>\n",
       "      <td>31924309471</td>\n",
       "      <td>96431</td>\n",
       "      <td>27828</td>\n",
       "      <td>10942974</td>\n",
       "      <td>946555356</td>\n",
       "      <td>2133681340</td>\n",
       "      <td>2012-03-06</td>\n",
       "      <td>0.75</td>\n",
       "      <td>LT</td>\n",
       "      <td>1</td>\n",
       "      <td>11.41</td>\n",
       "    </tr>\n",
       "    <tr>\n",
       "      <th>4</th>\n",
       "      <td>31924309471</td>\n",
       "      <td>96431</td>\n",
       "      <td>135933</td>\n",
       "      <td>64737859</td>\n",
       "      <td>700393013</td>\n",
       "      <td>221618334</td>\n",
       "      <td>2012-03-06</td>\n",
       "      <td>33.84</td>\n",
       "      <td>OZ</td>\n",
       "      <td>1</td>\n",
       "      <td>3.19</td>\n",
       "    </tr>\n",
       "  </tbody>\n",
       "</table>\n",
       "</div>"
      ],
      "text/plain": [
       "            id  store  market_group  category  manufacturer       brand  \\\n",
       "0  31924309471  96431        360548  10881580     707582354   109487351   \n",
       "1  31924309471  96431         80472  75959720    2052533430   254982935   \n",
       "2  31924309471  96431        194893  80209099    1640770606  1252530761   \n",
       "3  31924309471  96431         27828  10942974     946555356  2133681340   \n",
       "4  31924309471  96431        135933  64737859     700393013   221618334   \n",
       "\n",
       "        date  productsize measure  qty    amt  \n",
       "0 2012-03-06        28.00      OZ    1   2.69  \n",
       "1 2012-03-06        12.00      OZ    2   8.48  \n",
       "2 2012-03-06         6.00      OZ    1   1.69  \n",
       "3 2012-03-06         0.75      LT    1  11.41  \n",
       "4 2012-03-06        33.84      OZ    1   3.19  "
      ]
     },
     "execution_count": 8,
     "metadata": {},
     "output_type": "execute_result"
    }
   ],
   "source": [
    "# transactions = pd.read_csv(path + 'transactions.csv.gz', parse_dates=['date'])\n",
    "transactions = pd.read_csv('transactions.csv.gz', parse_dates=['date'])\n",
    "transactions.head()"
   ]
  },
  {
   "cell_type": "markdown",
   "metadata": {
    "id": "W6OJV3ONIaSU"
   },
   "source": [
    "# Extract Features"
   ]
  },
  {
   "cell_type": "markdown",
   "metadata": {
    "id": "kqkWrtBSIaSV"
   },
   "source": [
    "## Compute RFM Features"
   ]
  },
  {
   "cell_type": "code",
   "execution_count": 9,
   "metadata": {
    "id": "ONT8BJeGIaSV"
   },
   "outputs": [
    {
     "data": {
      "text/html": [
       "<div>\n",
       "<style scoped>\n",
       "    .dataframe tbody tr th:only-of-type {\n",
       "        vertical-align: middle;\n",
       "    }\n",
       "\n",
       "    .dataframe tbody tr th {\n",
       "        vertical-align: top;\n",
       "    }\n",
       "\n",
       "    .dataframe thead th {\n",
       "        text-align: right;\n",
       "    }\n",
       "</style>\n",
       "<table border=\"1\" class=\"dataframe\">\n",
       "  <thead>\n",
       "    <tr style=\"text-align: right;\">\n",
       "      <th></th>\n",
       "      <th>id</th>\n",
       "      <th>recency</th>\n",
       "      <th>frequency</th>\n",
       "      <th>monetary</th>\n",
       "    </tr>\n",
       "  </thead>\n",
       "  <tbody>\n",
       "    <tr>\n",
       "      <th>0</th>\n",
       "      <td>32159355</td>\n",
       "      <td>3.0</td>\n",
       "      <td>0.201117</td>\n",
       "      <td>3141.84</td>\n",
       "    </tr>\n",
       "    <tr>\n",
       "      <th>1</th>\n",
       "      <td>38085541</td>\n",
       "      <td>4.0</td>\n",
       "      <td>0.146814</td>\n",
       "      <td>2231.17</td>\n",
       "    </tr>\n",
       "    <tr>\n",
       "      <th>2</th>\n",
       "      <td>41697872</td>\n",
       "      <td>0.0</td>\n",
       "      <td>0.248619</td>\n",
       "      <td>5006.52</td>\n",
       "    </tr>\n",
       "    <tr>\n",
       "      <th>3</th>\n",
       "      <td>54676900</td>\n",
       "      <td>0.0</td>\n",
       "      <td>0.245810</td>\n",
       "      <td>1793.02</td>\n",
       "    </tr>\n",
       "    <tr>\n",
       "      <th>4</th>\n",
       "      <td>58631253</td>\n",
       "      <td>0.0</td>\n",
       "      <td>0.251381</td>\n",
       "      <td>4926.40</td>\n",
       "    </tr>\n",
       "  </tbody>\n",
       "</table>\n",
       "</div>"
      ],
      "text/plain": [
       "         id  recency  frequency  monetary\n",
       "0  32159355      3.0   0.201117   3141.84\n",
       "1  38085541      4.0   0.146814   2231.17\n",
       "2  41697872      0.0   0.248619   5006.52\n",
       "3  54676900      0.0   0.245810   1793.02\n",
       "4  58631253      0.0   0.251381   4926.40"
      ]
     },
     "execution_count": 9,
     "metadata": {},
     "output_type": "execute_result"
    }
   ],
   "source": [
    "max_date = transactions.date.max()\n",
    "transactions['last_purchase'] = (max_date - transactions['date']) / np.timedelta64(1, \"D\")\n",
    "\n",
    "# Agg transaction data to id\n",
    "trans_features = transactions.groupby('id').agg({\n",
    "    'last_purchase': 'min',\n",
    "    'date': ['nunique', 'min'],\n",
    "    'amt': 'sum',\n",
    "})\n",
    "\n",
    "# Compute RFM columns\n",
    "trans_features['recency'] = trans_features['last_purchase']['min']\n",
    "trans_features['frequency'] = (trans_features['date']['nunique']\n",
    "                               / ((max_date - trans_features['date']['min']) / np.timedelta64(1, \"D\")))\n",
    "trans_features['monetary'] = trans_features['amt']['sum']\n",
    "\n",
    "# Select out required features\n",
    "trans_features = trans_features[['recency', 'frequency', 'monetary']].reset_index()\n",
    "trans_features.columns = trans_features.columns.get_level_values(0)\n",
    "trans_features.head()"
   ]
  },
  {
   "cell_type": "markdown",
   "metadata": {
    "id": "PP6h3QGaIaSW"
   },
   "source": [
    "## Generate train, test and prediction sets"
   ]
  },
  {
   "cell_type": "code",
   "execution_count": 10,
   "metadata": {
    "id": "hMgkSNKcIaSW"
   },
   "outputs": [],
   "source": [
    "# Generate train/test features\n",
    "features = train_history.merge(trans_features, on='id', how='left')\n",
    "features.recency.fillna(365, inplace=True)\n",
    "features.frequency.fillna(0, inplace=True)\n",
    "features.monetary.fillna(0, inplace=True)\n",
    "\n",
    "x_cols = ['recency', 'frequency', 'monetary']\n",
    "y_col = 'active'\n",
    "\n",
    "X = features[x_cols]\n",
    "y = features[y_col]\n",
    "X_train, X_test, y_train, y_test = train_test_split(X, y, test_size=0.20, random_state=42)"
   ]
  },
  {
   "cell_type": "code",
   "execution_count": 11,
   "metadata": {
    "id": "5KCkRKPsIaSX"
   },
   "outputs": [],
   "source": [
    "# Generate prediction features (for blind test)\n",
    "predict_features = test_history.merge(trans_features, on='id', how='left')\n",
    "predict_features.recency.fillna(365, inplace=True)\n",
    "predict_features.frequency.fillna(0, inplace=True)\n",
    "predict_features.monetary.fillna(0, inplace=True)\n",
    "\n",
    "X_predict = predict_features[x_cols]\n",
    "predict_out = predict_features[['id', 'active']].copy()"
   ]
  },
  {
   "cell_type": "markdown",
   "metadata": {
    "id": "gNtWx0TAIaSX"
   },
   "source": [
    "# Build Model"
   ]
  },
  {
   "cell_type": "code",
   "execution_count": 12,
   "metadata": {
    "id": "2cOegEvpIaSY"
   },
   "outputs": [
    {
     "data": {
      "text/plain": [
       "RandomForestClassifier(random_state=42)"
      ]
     },
     "execution_count": 12,
     "metadata": {},
     "output_type": "execute_result"
    }
   ],
   "source": [
    "model = RandomForestClassifier(100, random_state=42)\n",
    "model.fit(X_train, y_train)"
   ]
  },
  {
   "cell_type": "code",
   "execution_count": 13,
   "metadata": {
    "id": "Dtn4fY4yIaSY"
   },
   "outputs": [
    {
     "name": "stdout",
     "output_type": "stream",
     "text": [
      "Test Accuracy: 0.78\n",
      "Test AUC: 0.52\n"
     ]
    }
   ],
   "source": [
    "print('Test Accuracy: {:.2f}'.format(model.score(X_test, y_test)))\n",
    "print('Test AUC: {:.2f}'.format(roc_auc_score(y_test, model.predict_proba(X_test)[:, 1])))"
   ]
  },
  {
   "cell_type": "markdown",
   "metadata": {
    "id": "SIJGxsv3IaSY"
   },
   "source": [
    "# Generate Prediction"
   ]
  },
  {
   "cell_type": "code",
   "execution_count": 14,
   "metadata": {
    "id": "u4TZZ-xPIaSZ"
   },
   "outputs": [
    {
     "data": {
      "text/html": [
       "<div>\n",
       "<style scoped>\n",
       "    .dataframe tbody tr th:only-of-type {\n",
       "        vertical-align: middle;\n",
       "    }\n",
       "\n",
       "    .dataframe tbody tr th {\n",
       "        vertical-align: top;\n",
       "    }\n",
       "\n",
       "    .dataframe thead th {\n",
       "        text-align: right;\n",
       "    }\n",
       "</style>\n",
       "<table border=\"1\" class=\"dataframe\">\n",
       "  <thead>\n",
       "    <tr style=\"text-align: right;\">\n",
       "      <th></th>\n",
       "      <th>id</th>\n",
       "      <th>active</th>\n",
       "    </tr>\n",
       "  </thead>\n",
       "  <tbody>\n",
       "    <tr>\n",
       "      <th>0</th>\n",
       "      <td>250462324156</td>\n",
       "      <td>NaN</td>\n",
       "    </tr>\n",
       "    <tr>\n",
       "      <th>1</th>\n",
       "      <td>61214568335</td>\n",
       "      <td>NaN</td>\n",
       "    </tr>\n",
       "    <tr>\n",
       "      <th>2</th>\n",
       "      <td>274776763999</td>\n",
       "      <td>NaN</td>\n",
       "    </tr>\n",
       "    <tr>\n",
       "      <th>3</th>\n",
       "      <td>91546215019</td>\n",
       "      <td>NaN</td>\n",
       "    </tr>\n",
       "    <tr>\n",
       "      <th>4</th>\n",
       "      <td>220718580189</td>\n",
       "      <td>NaN</td>\n",
       "    </tr>\n",
       "  </tbody>\n",
       "</table>\n",
       "</div>"
      ],
      "text/plain": [
       "             id  active\n",
       "0  250462324156     NaN\n",
       "1   61214568335     NaN\n",
       "2  274776763999     NaN\n",
       "3   91546215019     NaN\n",
       "4  220718580189     NaN"
      ]
     },
     "execution_count": 14,
     "metadata": {},
     "output_type": "execute_result"
    }
   ],
   "source": [
    "predict_out.head()"
   ]
  },
  {
   "cell_type": "code",
   "execution_count": 15,
   "metadata": {
    "id": "5_yNT76IIaSZ"
   },
   "outputs": [
    {
     "data": {
      "text/html": [
       "<div>\n",
       "<style scoped>\n",
       "    .dataframe tbody tr th:only-of-type {\n",
       "        vertical-align: middle;\n",
       "    }\n",
       "\n",
       "    .dataframe tbody tr th {\n",
       "        vertical-align: top;\n",
       "    }\n",
       "\n",
       "    .dataframe thead th {\n",
       "        text-align: right;\n",
       "    }\n",
       "</style>\n",
       "<table border=\"1\" class=\"dataframe\">\n",
       "  <thead>\n",
       "    <tr style=\"text-align: right;\">\n",
       "      <th></th>\n",
       "      <th>id</th>\n",
       "      <th>active</th>\n",
       "    </tr>\n",
       "  </thead>\n",
       "  <tbody>\n",
       "    <tr>\n",
       "      <th>0</th>\n",
       "      <td>250462324156</td>\n",
       "      <td>0.03</td>\n",
       "    </tr>\n",
       "    <tr>\n",
       "      <th>1</th>\n",
       "      <td>61214568335</td>\n",
       "      <td>0.49</td>\n",
       "    </tr>\n",
       "    <tr>\n",
       "      <th>2</th>\n",
       "      <td>274776763999</td>\n",
       "      <td>0.23</td>\n",
       "    </tr>\n",
       "    <tr>\n",
       "      <th>3</th>\n",
       "      <td>91546215019</td>\n",
       "      <td>0.06</td>\n",
       "    </tr>\n",
       "    <tr>\n",
       "      <th>4</th>\n",
       "      <td>220718580189</td>\n",
       "      <td>0.33</td>\n",
       "    </tr>\n",
       "  </tbody>\n",
       "</table>\n",
       "</div>"
      ],
      "text/plain": [
       "             id  active\n",
       "0  250462324156    0.03\n",
       "1   61214568335    0.49\n",
       "2  274776763999    0.23\n",
       "3   91546215019    0.06\n",
       "4  220718580189    0.33"
      ]
     },
     "execution_count": 15,
     "metadata": {},
     "output_type": "execute_result"
    }
   ],
   "source": [
    "predict_out['active'] = model.predict_proba(X_predict)[:, 1]\n",
    "predict_out.head()"
   ]
  },
  {
   "cell_type": "code",
   "execution_count": 16,
   "metadata": {
    "id": "GUnz-r4vIaSa"
   },
   "outputs": [
    {
     "data": {
      "text/html": [
       "<div>\n",
       "<style scoped>\n",
       "    .dataframe tbody tr th:only-of-type {\n",
       "        vertical-align: middle;\n",
       "    }\n",
       "\n",
       "    .dataframe tbody tr th {\n",
       "        vertical-align: top;\n",
       "    }\n",
       "\n",
       "    .dataframe thead th {\n",
       "        text-align: right;\n",
       "    }\n",
       "</style>\n",
       "<table border=\"1\" class=\"dataframe\">\n",
       "  <thead>\n",
       "    <tr style=\"text-align: right;\">\n",
       "      <th></th>\n",
       "      <th>id</th>\n",
       "      <th>active</th>\n",
       "    </tr>\n",
       "  </thead>\n",
       "  <tbody>\n",
       "    <tr>\n",
       "      <th>0</th>\n",
       "      <td>250462324156</td>\n",
       "      <td>0.03</td>\n",
       "    </tr>\n",
       "    <tr>\n",
       "      <th>1</th>\n",
       "      <td>61214568335</td>\n",
       "      <td>0.49</td>\n",
       "    </tr>\n",
       "    <tr>\n",
       "      <th>2</th>\n",
       "      <td>274776763999</td>\n",
       "      <td>0.23</td>\n",
       "    </tr>\n",
       "    <tr>\n",
       "      <th>3</th>\n",
       "      <td>91546215019</td>\n",
       "      <td>0.06</td>\n",
       "    </tr>\n",
       "    <tr>\n",
       "      <th>4</th>\n",
       "      <td>220718580189</td>\n",
       "      <td>0.33</td>\n",
       "    </tr>\n",
       "  </tbody>\n",
       "</table>\n",
       "</div>"
      ],
      "text/plain": [
       "             id  active\n",
       "0  250462324156    0.03\n",
       "1   61214568335    0.49\n",
       "2  274776763999    0.23\n",
       "3   91546215019    0.06\n",
       "4  220718580189    0.33"
      ]
     },
     "execution_count": 16,
     "metadata": {},
     "output_type": "execute_result"
    }
   ],
   "source": [
    "predict_out.to_csv('predict.csv', header=True, index=False)\n",
    "predict_out.head()"
   ]
  },
  {
   "cell_type": "code",
   "execution_count": 17,
   "metadata": {
    "id": "p2E4EKhCWEC5"
   },
   "outputs": [
    {
     "ename": "ModuleNotFoundError",
     "evalue": "No module named 'google.colab'",
     "output_type": "error",
     "traceback": [
      "\u001b[1;31m---------------------------------------------------------------------------\u001b[0m",
      "\u001b[1;31mModuleNotFoundError\u001b[0m                       Traceback (most recent call last)",
      "Input \u001b[1;32mIn [17]\u001b[0m, in \u001b[0;36m<cell line: 2>\u001b[1;34m()\u001b[0m\n\u001b[0;32m      1\u001b[0m \u001b[38;5;66;03m# This will download your prediction files\u001b[39;00m\n\u001b[1;32m----> 2\u001b[0m \u001b[38;5;28;01mfrom\u001b[39;00m \u001b[38;5;21;01mgoogle\u001b[39;00m\u001b[38;5;21;01m.\u001b[39;00m\u001b[38;5;21;01mcolab\u001b[39;00m \u001b[38;5;28;01mimport\u001b[39;00m files\n\u001b[0;32m      3\u001b[0m files\u001b[38;5;241m.\u001b[39mdownload(\u001b[38;5;124m'\u001b[39m\u001b[38;5;124mpredict.csv\u001b[39m\u001b[38;5;124m'\u001b[39m)\n",
      "\u001b[1;31mModuleNotFoundError\u001b[0m: No module named 'google.colab'"
     ]
    }
   ],
   "source": [
    "# This will download your prediction files\n",
    "# from google.colab import files\n",
    "# files.download('predict.csv')"
   ]
  },
  {
   "cell_type": "code",
   "execution_count": null,
   "metadata": {
    "id": "v_apbo96PgcM"
   },
   "outputs": [],
   "source": []
  }
 ],
 "metadata": {
  "colab": {
   "collapsed_sections": [],
   "name": "Assignment 3 - Example.ipynb",
   "provenance": []
  },
  "kernelspec": {
   "display_name": "Python 3 (ipykernel)",
   "language": "python",
   "name": "python3"
  },
  "language_info": {
   "codemirror_mode": {
    "name": "ipython",
    "version": 3
   },
   "file_extension": ".py",
   "mimetype": "text/x-python",
   "name": "python",
   "nbconvert_exporter": "python",
   "pygments_lexer": "ipython3",
   "version": "3.9.12"
  }
 },
 "nbformat": 4,
 "nbformat_minor": 1
}
