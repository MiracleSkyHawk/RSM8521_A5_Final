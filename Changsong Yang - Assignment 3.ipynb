{
 "cells": [
  {
   "cell_type": "code",
   "execution_count": 233,
   "metadata": {
    "id": "RRUc09ttIaSK"
   },
   "outputs": [],
   "source": [
    "import pandas as pd\n",
    "import numpy as np\n",
    "from sklearn.ensemble import RandomForestClassifier\n",
    "from sklearn.model_selection import train_test_split\n",
    "from sklearn.metrics import roc_auc_score\n",
    "from sklearn.compose import ColumnTransformer\n",
    "from sklearn.preprocessing import OneHotEncoder\n",
    "from sklearn.model_selection import GridSearchCV, train_test_split\n",
    "from imblearn.over_sampling import RandomOverSampler"
   ]
  },
  {
   "cell_type": "markdown",
   "metadata": {
    "id": "EezAWWf6IaSQ"
   },
   "source": [
    "# Load Data\n",
    "\n",
    "Upload the files to your Google Drive and mount it in the Colab notebook using the code below.\n",
    "\n",
    "Files: `promos.csv.gz`, `test_history.csv.gz`, `train_history.csv.gz`, and `transactions.csv.gz`."
   ]
  },
  {
   "cell_type": "code",
   "execution_count": 190,
   "metadata": {
    "id": "RWSJpsyKqHjH"
   },
   "outputs": [],
   "source": [
    "# This will ask you to give Colab permission to access your Google Drive \n",
    "# and enter an authorization code.\n",
    "# See: https://colab.research.google.com/notebooks/io.ipynb#scrollTo=u22w3BFiOveA\n",
    "# from google.colab import drive\n",
    "# drive.mount('/content/drive')"
   ]
  },
  {
   "cell_type": "code",
   "execution_count": 191,
   "metadata": {
    "id": "FXnuCisKOkzr"
   },
   "outputs": [],
   "source": [
    "# MODIFY THIS LINE with the path to where you saved the datafiles on your Google drive\n",
    "# path = '/content/drive/My Drive/Colab Notebooks/RSM8521 - Assignment 3/'\n",
    "path = '../'"
   ]
  },
  {
   "cell_type": "code",
   "execution_count": 192,
   "metadata": {
    "id": "Tiufe72OIaSQ"
   },
   "outputs": [
    {
     "data": {
      "text/html": [
       "<div>\n",
       "<style scoped>\n",
       "    .dataframe tbody tr th:only-of-type {\n",
       "        vertical-align: middle;\n",
       "    }\n",
       "\n",
       "    .dataframe tbody tr th {\n",
       "        vertical-align: top;\n",
       "    }\n",
       "\n",
       "    .dataframe thead th {\n",
       "        text-align: right;\n",
       "    }\n",
       "</style>\n",
       "<table border=\"1\" class=\"dataframe\">\n",
       "  <thead>\n",
       "    <tr style=\"text-align: right;\">\n",
       "      <th></th>\n",
       "      <th>promo</th>\n",
       "      <th>category</th>\n",
       "      <th>promoqty</th>\n",
       "      <th>manufacturer</th>\n",
       "      <th>promoval</th>\n",
       "      <th>brand</th>\n",
       "    </tr>\n",
       "  </thead>\n",
       "  <tbody>\n",
       "    <tr>\n",
       "      <th>0</th>\n",
       "      <td>209524</td>\n",
       "      <td>51006740</td>\n",
       "      <td>1</td>\n",
       "      <td>1593002228</td>\n",
       "      <td>1.00</td>\n",
       "      <td>189092190</td>\n",
       "    </tr>\n",
       "    <tr>\n",
       "      <th>1</th>\n",
       "      <td>176321</td>\n",
       "      <td>42760698</td>\n",
       "      <td>1</td>\n",
       "      <td>1957688344</td>\n",
       "      <td>0.75</td>\n",
       "      <td>1386413202</td>\n",
       "    </tr>\n",
       "    <tr>\n",
       "      <th>2</th>\n",
       "      <td>17125</td>\n",
       "      <td>56844954</td>\n",
       "      <td>1</td>\n",
       "      <td>629075831</td>\n",
       "      <td>1.50</td>\n",
       "      <td>1429623935</td>\n",
       "    </tr>\n",
       "    <tr>\n",
       "      <th>3</th>\n",
       "      <td>177412</td>\n",
       "      <td>56844954</td>\n",
       "      <td>1</td>\n",
       "      <td>629075831</td>\n",
       "      <td>1.50</td>\n",
       "      <td>1429623935</td>\n",
       "    </tr>\n",
       "    <tr>\n",
       "      <th>4</th>\n",
       "      <td>69839</td>\n",
       "      <td>56844954</td>\n",
       "      <td>1</td>\n",
       "      <td>629075831</td>\n",
       "      <td>1.50</td>\n",
       "      <td>1429623935</td>\n",
       "    </tr>\n",
       "  </tbody>\n",
       "</table>\n",
       "</div>"
      ],
      "text/plain": [
       "    promo  category  promoqty  manufacturer  promoval       brand\n",
       "0  209524  51006740         1    1593002228      1.00   189092190\n",
       "1  176321  42760698         1    1957688344      0.75  1386413202\n",
       "2   17125  56844954         1     629075831      1.50  1429623935\n",
       "3  177412  56844954         1     629075831      1.50  1429623935\n",
       "4   69839  56844954         1     629075831      1.50  1429623935"
      ]
     },
     "execution_count": 192,
     "metadata": {},
     "output_type": "execute_result"
    }
   ],
   "source": [
    "# promos = pd.read_csv(path + '/promos.csv.gz')\n",
    "promos = pd.read_csv('promos.csv.gz')\n",
    "promos.head()"
   ]
  },
  {
   "cell_type": "code",
   "execution_count": 193,
   "metadata": {
    "id": "nSmAvmYnIaSS"
   },
   "outputs": [
    {
     "data": {
      "text/html": [
       "<div>\n",
       "<style scoped>\n",
       "    .dataframe tbody tr th:only-of-type {\n",
       "        vertical-align: middle;\n",
       "    }\n",
       "\n",
       "    .dataframe tbody tr th {\n",
       "        vertical-align: top;\n",
       "    }\n",
       "\n",
       "    .dataframe thead th {\n",
       "        text-align: right;\n",
       "    }\n",
       "</style>\n",
       "<table border=\"1\" class=\"dataframe\">\n",
       "  <thead>\n",
       "    <tr style=\"text-align: right;\">\n",
       "      <th></th>\n",
       "      <th>id</th>\n",
       "      <th>store</th>\n",
       "      <th>promo</th>\n",
       "      <th>region</th>\n",
       "      <th>promodate</th>\n",
       "      <th>active</th>\n",
       "    </tr>\n",
       "  </thead>\n",
       "  <tbody>\n",
       "    <tr>\n",
       "      <th>0</th>\n",
       "      <td>115562959531</td>\n",
       "      <td>860548</td>\n",
       "      <td>176321</td>\n",
       "      <td>243820</td>\n",
       "      <td>2013-03-25</td>\n",
       "      <td>0.0</td>\n",
       "    </tr>\n",
       "    <tr>\n",
       "      <th>1</th>\n",
       "      <td>175261390705</td>\n",
       "      <td>625933</td>\n",
       "      <td>37568</td>\n",
       "      <td>191747</td>\n",
       "      <td>2013-03-15</td>\n",
       "      <td>0.0</td>\n",
       "    </tr>\n",
       "    <tr>\n",
       "      <th>2</th>\n",
       "      <td>273751574633</td>\n",
       "      <td>527828</td>\n",
       "      <td>209524</td>\n",
       "      <td>165933</td>\n",
       "      <td>2013-03-23</td>\n",
       "      <td>1.0</td>\n",
       "    </tr>\n",
       "    <tr>\n",
       "      <th>3</th>\n",
       "      <td>166923268906</td>\n",
       "      <td>1056730</td>\n",
       "      <td>214816</td>\n",
       "      <td>5506</td>\n",
       "      <td>2013-03-20</td>\n",
       "      <td>0.0</td>\n",
       "    </tr>\n",
       "    <tr>\n",
       "      <th>4</th>\n",
       "      <td>135410903443</td>\n",
       "      <td>241369</td>\n",
       "      <td>176321</td>\n",
       "      <td>278897</td>\n",
       "      <td>2013-03-25</td>\n",
       "      <td>0.0</td>\n",
       "    </tr>\n",
       "  </tbody>\n",
       "</table>\n",
       "</div>"
      ],
      "text/plain": [
       "             id    store   promo  region  promodate  active\n",
       "0  115562959531   860548  176321  243820 2013-03-25     0.0\n",
       "1  175261390705   625933   37568  191747 2013-03-15     0.0\n",
       "2  273751574633   527828  209524  165933 2013-03-23     1.0\n",
       "3  166923268906  1056730  214816    5506 2013-03-20     0.0\n",
       "4  135410903443   241369  176321  278897 2013-03-25     0.0"
      ]
     },
     "execution_count": 193,
     "metadata": {},
     "output_type": "execute_result"
    }
   ],
   "source": [
    "# train_history = pd.read_csv(path + '/train_history.csv.gz', parse_dates=['promodate'])\n",
    "train_history = pd.read_csv('train_history.csv.gz', parse_dates=['promodate'])\n",
    "train_history.head()"
   ]
  },
  {
   "cell_type": "code",
   "execution_count": 194,
   "metadata": {},
   "outputs": [
    {
     "data": {
      "text/plain": [
       "Timestamp('2013-03-31 00:00:00')"
      ]
     },
     "execution_count": 194,
     "metadata": {},
     "output_type": "execute_result"
    }
   ],
   "source": [
    "train_history.promodate.max()"
   ]
  },
  {
   "cell_type": "code",
   "execution_count": 195,
   "metadata": {},
   "outputs": [
    {
     "data": {
      "text/plain": [
       "Timestamp('2013-03-01 00:00:00')"
      ]
     },
     "execution_count": 195,
     "metadata": {},
     "output_type": "execute_result"
    }
   ],
   "source": [
    "train_history.promodate.min()"
   ]
  },
  {
   "cell_type": "code",
   "execution_count": 197,
   "metadata": {
    "id": "__RrtX-SIaST"
   },
   "outputs": [
    {
     "data": {
      "text/html": [
       "<div>\n",
       "<style scoped>\n",
       "    .dataframe tbody tr th:only-of-type {\n",
       "        vertical-align: middle;\n",
       "    }\n",
       "\n",
       "    .dataframe tbody tr th {\n",
       "        vertical-align: top;\n",
       "    }\n",
       "\n",
       "    .dataframe thead th {\n",
       "        text-align: right;\n",
       "    }\n",
       "</style>\n",
       "<table border=\"1\" class=\"dataframe\">\n",
       "  <thead>\n",
       "    <tr style=\"text-align: right;\">\n",
       "      <th></th>\n",
       "      <th>id</th>\n",
       "      <th>store</th>\n",
       "      <th>promo</th>\n",
       "      <th>region</th>\n",
       "      <th>promodate</th>\n",
       "      <th>active</th>\n",
       "    </tr>\n",
       "  </thead>\n",
       "  <tbody>\n",
       "    <tr>\n",
       "      <th>0</th>\n",
       "      <td>250462324156</td>\n",
       "      <td>457755</td>\n",
       "      <td>96852</td>\n",
       "      <td>191747</td>\n",
       "      <td>2013-04-22</td>\n",
       "      <td>NaN</td>\n",
       "    </tr>\n",
       "    <tr>\n",
       "      <th>1</th>\n",
       "      <td>61214568335</td>\n",
       "      <td>740794</td>\n",
       "      <td>54956</td>\n",
       "      <td>203586</td>\n",
       "      <td>2013-04-23</td>\n",
       "      <td>NaN</td>\n",
       "    </tr>\n",
       "    <tr>\n",
       "      <th>2</th>\n",
       "      <td>274776763999</td>\n",
       "      <td>394092</td>\n",
       "      <td>95011</td>\n",
       "      <td>42773</td>\n",
       "      <td>2013-04-02</td>\n",
       "      <td>NaN</td>\n",
       "    </tr>\n",
       "    <tr>\n",
       "      <th>3</th>\n",
       "      <td>91546215019</td>\n",
       "      <td>876095</td>\n",
       "      <td>108237</td>\n",
       "      <td>323706</td>\n",
       "      <td>2013-04-24</td>\n",
       "      <td>NaN</td>\n",
       "    </tr>\n",
       "    <tr>\n",
       "      <th>4</th>\n",
       "      <td>220718580189</td>\n",
       "      <td>625933</td>\n",
       "      <td>222088</td>\n",
       "      <td>191747</td>\n",
       "      <td>2013-04-18</td>\n",
       "      <td>NaN</td>\n",
       "    </tr>\n",
       "  </tbody>\n",
       "</table>\n",
       "</div>"
      ],
      "text/plain": [
       "             id   store   promo  region  promodate  active\n",
       "0  250462324156  457755   96852  191747 2013-04-22     NaN\n",
       "1   61214568335  740794   54956  203586 2013-04-23     NaN\n",
       "2  274776763999  394092   95011   42773 2013-04-02     NaN\n",
       "3   91546215019  876095  108237  323706 2013-04-24     NaN\n",
       "4  220718580189  625933  222088  191747 2013-04-18     NaN"
      ]
     },
     "execution_count": 197,
     "metadata": {},
     "output_type": "execute_result"
    }
   ],
   "source": [
    "# test_history = pd.read_csv(path + '/test_history.csv.gz', parse_dates=['promodate'])\n",
    "test_history = pd.read_csv('test_history.csv.gz', parse_dates=['promodate'])\n",
    "test_history.head()"
   ]
  },
  {
   "cell_type": "code",
   "execution_count": 198,
   "metadata": {},
   "outputs": [
    {
     "data": {
      "text/plain": [
       "Timestamp('2013-04-30 00:00:00')"
      ]
     },
     "execution_count": 198,
     "metadata": {},
     "output_type": "execute_result"
    }
   ],
   "source": [
    "test_history.promodate.max()"
   ]
  },
  {
   "cell_type": "code",
   "execution_count": 199,
   "metadata": {},
   "outputs": [
    {
     "data": {
      "text/plain": [
       "Timestamp('2013-04-01 00:00:00')"
      ]
     },
     "execution_count": 199,
     "metadata": {},
     "output_type": "execute_result"
    }
   ],
   "source": [
    "test_history.promodate.min()"
   ]
  },
  {
   "cell_type": "code",
   "execution_count": 200,
   "metadata": {
    "id": "l_QK95DxIaSU"
   },
   "outputs": [
    {
     "data": {
      "text/html": [
       "<div>\n",
       "<style scoped>\n",
       "    .dataframe tbody tr th:only-of-type {\n",
       "        vertical-align: middle;\n",
       "    }\n",
       "\n",
       "    .dataframe tbody tr th {\n",
       "        vertical-align: top;\n",
       "    }\n",
       "\n",
       "    .dataframe thead th {\n",
       "        text-align: right;\n",
       "    }\n",
       "</style>\n",
       "<table border=\"1\" class=\"dataframe\">\n",
       "  <thead>\n",
       "    <tr style=\"text-align: right;\">\n",
       "      <th></th>\n",
       "      <th>id</th>\n",
       "      <th>store</th>\n",
       "      <th>market_group</th>\n",
       "      <th>category</th>\n",
       "      <th>manufacturer</th>\n",
       "      <th>brand</th>\n",
       "      <th>date</th>\n",
       "      <th>productsize</th>\n",
       "      <th>measure</th>\n",
       "      <th>qty</th>\n",
       "      <th>amt</th>\n",
       "    </tr>\n",
       "  </thead>\n",
       "  <tbody>\n",
       "    <tr>\n",
       "      <th>0</th>\n",
       "      <td>31924309471</td>\n",
       "      <td>96431</td>\n",
       "      <td>360548</td>\n",
       "      <td>10881580</td>\n",
       "      <td>707582354</td>\n",
       "      <td>109487351</td>\n",
       "      <td>2012-03-06</td>\n",
       "      <td>28.00</td>\n",
       "      <td>OZ</td>\n",
       "      <td>1</td>\n",
       "      <td>2.69</td>\n",
       "    </tr>\n",
       "    <tr>\n",
       "      <th>1</th>\n",
       "      <td>31924309471</td>\n",
       "      <td>96431</td>\n",
       "      <td>80472</td>\n",
       "      <td>75959720</td>\n",
       "      <td>2052533430</td>\n",
       "      <td>254982935</td>\n",
       "      <td>2012-03-06</td>\n",
       "      <td>12.00</td>\n",
       "      <td>OZ</td>\n",
       "      <td>2</td>\n",
       "      <td>8.48</td>\n",
       "    </tr>\n",
       "    <tr>\n",
       "      <th>2</th>\n",
       "      <td>31924309471</td>\n",
       "      <td>96431</td>\n",
       "      <td>194893</td>\n",
       "      <td>80209099</td>\n",
       "      <td>1640770606</td>\n",
       "      <td>1252530761</td>\n",
       "      <td>2012-03-06</td>\n",
       "      <td>6.00</td>\n",
       "      <td>OZ</td>\n",
       "      <td>1</td>\n",
       "      <td>1.69</td>\n",
       "    </tr>\n",
       "    <tr>\n",
       "      <th>3</th>\n",
       "      <td>31924309471</td>\n",
       "      <td>96431</td>\n",
       "      <td>27828</td>\n",
       "      <td>10942974</td>\n",
       "      <td>946555356</td>\n",
       "      <td>2133681340</td>\n",
       "      <td>2012-03-06</td>\n",
       "      <td>0.75</td>\n",
       "      <td>LT</td>\n",
       "      <td>1</td>\n",
       "      <td>11.41</td>\n",
       "    </tr>\n",
       "    <tr>\n",
       "      <th>4</th>\n",
       "      <td>31924309471</td>\n",
       "      <td>96431</td>\n",
       "      <td>135933</td>\n",
       "      <td>64737859</td>\n",
       "      <td>700393013</td>\n",
       "      <td>221618334</td>\n",
       "      <td>2012-03-06</td>\n",
       "      <td>33.84</td>\n",
       "      <td>OZ</td>\n",
       "      <td>1</td>\n",
       "      <td>3.19</td>\n",
       "    </tr>\n",
       "  </tbody>\n",
       "</table>\n",
       "</div>"
      ],
      "text/plain": [
       "            id  store  market_group  category  manufacturer       brand  \\\n",
       "0  31924309471  96431        360548  10881580     707582354   109487351   \n",
       "1  31924309471  96431         80472  75959720    2052533430   254982935   \n",
       "2  31924309471  96431        194893  80209099    1640770606  1252530761   \n",
       "3  31924309471  96431         27828  10942974     946555356  2133681340   \n",
       "4  31924309471  96431        135933  64737859     700393013   221618334   \n",
       "\n",
       "        date  productsize measure  qty    amt  \n",
       "0 2012-03-06        28.00      OZ    1   2.69  \n",
       "1 2012-03-06        12.00      OZ    2   8.48  \n",
       "2 2012-03-06         6.00      OZ    1   1.69  \n",
       "3 2012-03-06         0.75      LT    1  11.41  \n",
       "4 2012-03-06        33.84      OZ    1   3.19  "
      ]
     },
     "execution_count": 200,
     "metadata": {},
     "output_type": "execute_result"
    }
   ],
   "source": [
    "transactions = pd.read_csv(path + 'transactions.csv.gz', parse_dates=['date'])\n",
    "# transactions = pd.read_csv('transactions.csv.gz', parse_dates=['date'])\n",
    "transactions.head()"
   ]
  },
  {
   "cell_type": "code",
   "execution_count": 201,
   "metadata": {},
   "outputs": [
    {
     "data": {
      "text/plain": [
       "Timestamp('2013-02-28 00:00:00')"
      ]
     },
     "execution_count": 201,
     "metadata": {},
     "output_type": "execute_result"
    }
   ],
   "source": [
    "transactions.date.max()"
   ]
  },
  {
   "cell_type": "code",
   "execution_count": 202,
   "metadata": {},
   "outputs": [
    {
     "data": {
      "text/plain": [
       "Timestamp('2012-03-02 00:00:00')"
      ]
     },
     "execution_count": 202,
     "metadata": {},
     "output_type": "execute_result"
    }
   ],
   "source": [
    "transactions.date.min()"
   ]
  },
  {
   "cell_type": "markdown",
   "metadata": {},
   "source": [
    "# Feature Engineering"
   ]
  },
  {
   "cell_type": "markdown",
   "metadata": {},
   "source": [
    "## Recent 3 months RFM"
   ]
  },
  {
   "cell_type": "code",
   "execution_count": 203,
   "metadata": {},
   "outputs": [],
   "source": [
    "transactions_engineered = transactions.copy(deep=True)"
   ]
  },
  {
   "cell_type": "code",
   "execution_count": 204,
   "metadata": {},
   "outputs": [
    {
     "name": "stderr",
     "output_type": "stream",
     "text": [
      "C:\\Users\\ddjgy\\AppData\\Local\\Temp\\ipykernel_33576\\3014052251.py:4: SettingWithCopyWarning: \n",
      "A value is trying to be set on a copy of a slice from a DataFrame.\n",
      "Try using .loc[row_indexer,col_indexer] = value instead\n",
      "\n",
      "See the caveats in the documentation: https://pandas.pydata.org/pandas-docs/stable/user_guide/indexing.html#returning-a-view-versus-a-copy\n",
      "  transactions_3_month['last_purchase_3_month'] = (transactions_engineered.date.max() -\n"
     ]
    }
   ],
   "source": [
    "start_date = transactions_engineered.date.max() - pd.DateOffset(months=3)\n",
    "transactions_3_month = transactions_engineered[transactions_engineered['date'] >= start_date]\n",
    "\n",
    "transactions_3_month['last_purchase_3_month'] = (transactions_engineered.date.max() - \n",
    "                                                 transactions_engineered['date']) / np.timedelta64(1, \"D\")\n",
    "\n",
    "transactions_3_month_transf = transactions_3_month.groupby('id').agg({\n",
    "    'last_purchase_3_month': 'min',\n",
    "    'date': ['nunique', 'min'],\n",
    "    'amt': 'sum',\n",
    "})"
   ]
  },
  {
   "cell_type": "code",
   "execution_count": 205,
   "metadata": {},
   "outputs": [
    {
     "data": {
      "text/html": [
       "<div>\n",
       "<style scoped>\n",
       "    .dataframe tbody tr th:only-of-type {\n",
       "        vertical-align: middle;\n",
       "    }\n",
       "\n",
       "    .dataframe tbody tr th {\n",
       "        vertical-align: top;\n",
       "    }\n",
       "\n",
       "    .dataframe thead th {\n",
       "        text-align: right;\n",
       "    }\n",
       "</style>\n",
       "<table border=\"1\" class=\"dataframe\">\n",
       "  <thead>\n",
       "    <tr style=\"text-align: right;\">\n",
       "      <th></th>\n",
       "      <th>id</th>\n",
       "      <th>recency_3_month</th>\n",
       "      <th>frequency_3_month</th>\n",
       "      <th>monetary_3_month</th>\n",
       "    </tr>\n",
       "  </thead>\n",
       "  <tbody>\n",
       "    <tr>\n",
       "      <th>0</th>\n",
       "      <td>32159355</td>\n",
       "      <td>3.0</td>\n",
       "      <td>0.177778</td>\n",
       "      <td>842.61</td>\n",
       "    </tr>\n",
       "    <tr>\n",
       "      <th>1</th>\n",
       "      <td>38085541</td>\n",
       "      <td>4.0</td>\n",
       "      <td>0.159091</td>\n",
       "      <td>913.23</td>\n",
       "    </tr>\n",
       "    <tr>\n",
       "      <th>2</th>\n",
       "      <td>41697872</td>\n",
       "      <td>0.0</td>\n",
       "      <td>0.340909</td>\n",
       "      <td>1467.81</td>\n",
       "    </tr>\n",
       "    <tr>\n",
       "      <th>3</th>\n",
       "      <td>54676900</td>\n",
       "      <td>0.0</td>\n",
       "      <td>0.260870</td>\n",
       "      <td>516.98</td>\n",
       "    </tr>\n",
       "    <tr>\n",
       "      <th>4</th>\n",
       "      <td>58631253</td>\n",
       "      <td>0.0</td>\n",
       "      <td>0.315217</td>\n",
       "      <td>1646.55</td>\n",
       "    </tr>\n",
       "  </tbody>\n",
       "</table>\n",
       "</div>"
      ],
      "text/plain": [
       "         id  recency_3_month  frequency_3_month  monetary_3_month\n",
       "0  32159355              3.0           0.177778            842.61\n",
       "1  38085541              4.0           0.159091            913.23\n",
       "2  41697872              0.0           0.340909           1467.81\n",
       "3  54676900              0.0           0.260870            516.98\n",
       "4  58631253              0.0           0.315217           1646.55"
      ]
     },
     "execution_count": 205,
     "metadata": {},
     "output_type": "execute_result"
    }
   ],
   "source": [
    "# Compute RFM columns\n",
    "transactions_3_month_transf['recency_3_month'] = transactions_3_month_transf['last_purchase_3_month']['min']\n",
    "transactions_3_month_transf['frequency_3_month'] = (transactions_3_month_transf['date']['nunique']\n",
    "                               / ((transactions_engineered.date.max() - transactions_3_month_transf['date']['min']) / np.timedelta64(1, \"D\")))\n",
    "transactions_3_month_transf['monetary_3_month'] = transactions_3_month_transf['amt']['sum']\n",
    "\n",
    "# Select out required features\n",
    "transactions_3_month_transf = transactions_3_month_transf[['recency_3_month', 'frequency_3_month', 'monetary_3_month']].reset_index()\n",
    "transactions_3_month_transf.columns = transactions_3_month_transf.columns.get_level_values(0)\n",
    "transactions_3_month_transf.head()"
   ]
  },
  {
   "cell_type": "code",
   "execution_count": 206,
   "metadata": {},
   "outputs": [
    {
     "data": {
      "text/plain": [
       "(29971, 4)"
      ]
     },
     "execution_count": 206,
     "metadata": {},
     "output_type": "execute_result"
    }
   ],
   "source": [
    "transactions_3_month_transf.shape"
   ]
  },
  {
   "cell_type": "markdown",
   "metadata": {},
   "source": [
    "## All RFM"
   ]
  },
  {
   "cell_type": "code",
   "execution_count": 207,
   "metadata": {},
   "outputs": [
    {
     "data": {
      "text/html": [
       "<div>\n",
       "<style scoped>\n",
       "    .dataframe tbody tr th:only-of-type {\n",
       "        vertical-align: middle;\n",
       "    }\n",
       "\n",
       "    .dataframe tbody tr th {\n",
       "        vertical-align: top;\n",
       "    }\n",
       "\n",
       "    .dataframe thead th {\n",
       "        text-align: right;\n",
       "    }\n",
       "</style>\n",
       "<table border=\"1\" class=\"dataframe\">\n",
       "  <thead>\n",
       "    <tr style=\"text-align: right;\">\n",
       "      <th></th>\n",
       "      <th>id</th>\n",
       "      <th>recency</th>\n",
       "      <th>frequency</th>\n",
       "      <th>monetary</th>\n",
       "    </tr>\n",
       "  </thead>\n",
       "  <tbody>\n",
       "    <tr>\n",
       "      <th>0</th>\n",
       "      <td>32159355</td>\n",
       "      <td>3.0</td>\n",
       "      <td>0.201117</td>\n",
       "      <td>3141.84</td>\n",
       "    </tr>\n",
       "    <tr>\n",
       "      <th>1</th>\n",
       "      <td>38085541</td>\n",
       "      <td>4.0</td>\n",
       "      <td>0.146814</td>\n",
       "      <td>2231.17</td>\n",
       "    </tr>\n",
       "    <tr>\n",
       "      <th>2</th>\n",
       "      <td>41697872</td>\n",
       "      <td>0.0</td>\n",
       "      <td>0.248619</td>\n",
       "      <td>5006.52</td>\n",
       "    </tr>\n",
       "    <tr>\n",
       "      <th>3</th>\n",
       "      <td>54676900</td>\n",
       "      <td>0.0</td>\n",
       "      <td>0.245810</td>\n",
       "      <td>1793.02</td>\n",
       "    </tr>\n",
       "    <tr>\n",
       "      <th>4</th>\n",
       "      <td>58631253</td>\n",
       "      <td>0.0</td>\n",
       "      <td>0.251381</td>\n",
       "      <td>4926.40</td>\n",
       "    </tr>\n",
       "  </tbody>\n",
       "</table>\n",
       "</div>"
      ],
      "text/plain": [
       "         id  recency  frequency  monetary\n",
       "0  32159355      3.0   0.201117   3141.84\n",
       "1  38085541      4.0   0.146814   2231.17\n",
       "2  41697872      0.0   0.248619   5006.52\n",
       "3  54676900      0.0   0.245810   1793.02\n",
       "4  58631253      0.0   0.251381   4926.40"
      ]
     },
     "execution_count": 207,
     "metadata": {},
     "output_type": "execute_result"
    }
   ],
   "source": [
    "transactions_engineered['last_purchase'] = (transactions_engineered.date.max() - \n",
    "                                 transactions_engineered['date']) / np.timedelta64(1, \"D\")\n",
    "\n",
    "# Agg transaction data to id\n",
    "transactions_engineered_transf = transactions_engineered.groupby('id').agg({\n",
    "    'last_purchase': 'min',\n",
    "    'date': ['nunique', 'min'],\n",
    "    'amt': 'sum',\n",
    "})\n",
    "\n",
    "# Compute RFM columns\n",
    "transactions_engineered_transf['recency'] = transactions_engineered_transf['last_purchase']['min']\n",
    "transactions_engineered_transf['frequency'] = (transactions_engineered_transf['date']['nunique']\n",
    "                               / ((transactions_engineered.date.max() - transactions_engineered_transf['date']['min']) / np.timedelta64(1, \"D\")))\n",
    "transactions_engineered_transf['monetary'] = transactions_engineered_transf['amt']['sum']\n",
    "\n",
    "# Select out required features\n",
    "transactions_engineered_transf = transactions_engineered_transf[['recency', 'frequency', 'monetary']].reset_index()\n",
    "transactions_engineered_transf.columns = transactions_engineered_transf.columns.get_level_values(0)\n",
    "transactions_engineered_transf.head()"
   ]
  },
  {
   "cell_type": "code",
   "execution_count": 208,
   "metadata": {},
   "outputs": [
    {
     "data": {
      "text/plain": [
       "(29988, 4)"
      ]
     },
     "execution_count": 208,
     "metadata": {},
     "output_type": "execute_result"
    }
   ],
   "source": [
    "transactions_engineered_transf.shape"
   ]
  },
  {
   "cell_type": "markdown",
   "metadata": {},
   "source": [
    "## Count Brand and Category"
   ]
  },
  {
   "cell_type": "code",
   "execution_count": 209,
   "metadata": {},
   "outputs": [
    {
     "data": {
      "text/html": [
       "<div>\n",
       "<style scoped>\n",
       "    .dataframe tbody tr th:only-of-type {\n",
       "        vertical-align: middle;\n",
       "    }\n",
       "\n",
       "    .dataframe tbody tr th {\n",
       "        vertical-align: top;\n",
       "    }\n",
       "\n",
       "    .dataframe thead th {\n",
       "        text-align: right;\n",
       "    }\n",
       "</style>\n",
       "<table border=\"1\" class=\"dataframe\">\n",
       "  <thead>\n",
       "    <tr style=\"text-align: right;\">\n",
       "      <th></th>\n",
       "      <th>id</th>\n",
       "      <th>category</th>\n",
       "      <th>category_count</th>\n",
       "    </tr>\n",
       "  </thead>\n",
       "  <tbody>\n",
       "    <tr>\n",
       "      <th>0</th>\n",
       "      <td>32159355</td>\n",
       "      <td>56797</td>\n",
       "      <td>1</td>\n",
       "    </tr>\n",
       "    <tr>\n",
       "      <th>1</th>\n",
       "      <td>32159355</td>\n",
       "      <td>201779</td>\n",
       "      <td>2</td>\n",
       "    </tr>\n",
       "    <tr>\n",
       "      <th>2</th>\n",
       "      <td>32159355</td>\n",
       "      <td>472968</td>\n",
       "      <td>3</td>\n",
       "    </tr>\n",
       "    <tr>\n",
       "      <th>3</th>\n",
       "      <td>32159355</td>\n",
       "      <td>1125818</td>\n",
       "      <td>8</td>\n",
       "    </tr>\n",
       "    <tr>\n",
       "      <th>4</th>\n",
       "      <td>32159355</td>\n",
       "      <td>1281213</td>\n",
       "      <td>1</td>\n",
       "    </tr>\n",
       "  </tbody>\n",
       "</table>\n",
       "</div>"
      ],
      "text/plain": [
       "         id  category  category_count\n",
       "0  32159355     56797               1\n",
       "1  32159355    201779               2\n",
       "2  32159355    472968               3\n",
       "3  32159355   1125818               8\n",
       "4  32159355   1281213               1"
      ]
     },
     "execution_count": 209,
     "metadata": {},
     "output_type": "execute_result"
    }
   ],
   "source": [
    "transactions_cat_count = transactions_engineered.groupby(['id', 'category']).count()[['store']]\n",
    "transactions_cat_count = transactions_cat_count.reset_index()\n",
    "transactions_cat_count.columns = ['id', 'category', 'category_count']\n",
    "transactions_cat_count['category'] = transactions_cat_count['category'].astype(int)\n",
    "transactions_cat_count.head()"
   ]
  },
  {
   "cell_type": "code",
   "execution_count": 210,
   "metadata": {},
   "outputs": [
    {
     "data": {
      "text/html": [
       "<div>\n",
       "<style scoped>\n",
       "    .dataframe tbody tr th:only-of-type {\n",
       "        vertical-align: middle;\n",
       "    }\n",
       "\n",
       "    .dataframe tbody tr th {\n",
       "        vertical-align: top;\n",
       "    }\n",
       "\n",
       "    .dataframe thead th {\n",
       "        text-align: right;\n",
       "    }\n",
       "</style>\n",
       "<table border=\"1\" class=\"dataframe\">\n",
       "  <thead>\n",
       "    <tr style=\"text-align: right;\">\n",
       "      <th></th>\n",
       "      <th>id</th>\n",
       "      <th>brand</th>\n",
       "      <th>brand_count</th>\n",
       "    </tr>\n",
       "  </thead>\n",
       "  <tbody>\n",
       "    <tr>\n",
       "      <th>0</th>\n",
       "      <td>32159355</td>\n",
       "      <td>8570994</td>\n",
       "      <td>1</td>\n",
       "    </tr>\n",
       "    <tr>\n",
       "      <th>1</th>\n",
       "      <td>32159355</td>\n",
       "      <td>32146788</td>\n",
       "      <td>2</td>\n",
       "    </tr>\n",
       "    <tr>\n",
       "      <th>2</th>\n",
       "      <td>32159355</td>\n",
       "      <td>33392255</td>\n",
       "      <td>2</td>\n",
       "    </tr>\n",
       "    <tr>\n",
       "      <th>3</th>\n",
       "      <td>32159355</td>\n",
       "      <td>39333655</td>\n",
       "      <td>1</td>\n",
       "    </tr>\n",
       "    <tr>\n",
       "      <th>4</th>\n",
       "      <td>32159355</td>\n",
       "      <td>41563264</td>\n",
       "      <td>1</td>\n",
       "    </tr>\n",
       "  </tbody>\n",
       "</table>\n",
       "</div>"
      ],
      "text/plain": [
       "         id     brand  brand_count\n",
       "0  32159355   8570994            1\n",
       "1  32159355  32146788            2\n",
       "2  32159355  33392255            2\n",
       "3  32159355  39333655            1\n",
       "4  32159355  41563264            1"
      ]
     },
     "execution_count": 210,
     "metadata": {},
     "output_type": "execute_result"
    }
   ],
   "source": [
    "transactions_brand_count = transactions_engineered.groupby(['id', 'brand']).count()[['store']]\n",
    "transactions_brand_count = transactions_brand_count.reset_index()\n",
    "transactions_brand_count.columns = ['id', 'brand', 'brand_count']\n",
    "transactions_brand_count['brand'] = transactions_brand_count['brand'].astype('int64')\n",
    "transactions_brand_count.head()"
   ]
  },
  {
   "cell_type": "markdown",
   "metadata": {},
   "source": [
    "## Join History and Promo"
   ]
  },
  {
   "cell_type": "code",
   "execution_count": 211,
   "metadata": {},
   "outputs": [
    {
     "data": {
      "text/html": [
       "<div>\n",
       "<style scoped>\n",
       "    .dataframe tbody tr th:only-of-type {\n",
       "        vertical-align: middle;\n",
       "    }\n",
       "\n",
       "    .dataframe tbody tr th {\n",
       "        vertical-align: top;\n",
       "    }\n",
       "\n",
       "    .dataframe thead th {\n",
       "        text-align: right;\n",
       "    }\n",
       "</style>\n",
       "<table border=\"1\" class=\"dataframe\">\n",
       "  <thead>\n",
       "    <tr style=\"text-align: right;\">\n",
       "      <th></th>\n",
       "      <th>id</th>\n",
       "      <th>store</th>\n",
       "      <th>promo</th>\n",
       "      <th>region</th>\n",
       "      <th>promodate</th>\n",
       "      <th>active</th>\n",
       "      <th>category</th>\n",
       "      <th>promoqty</th>\n",
       "      <th>manufacturer</th>\n",
       "      <th>promoval</th>\n",
       "      <th>brand</th>\n",
       "    </tr>\n",
       "  </thead>\n",
       "  <tbody>\n",
       "    <tr>\n",
       "      <th>0</th>\n",
       "      <td>115562959531</td>\n",
       "      <td>860548</td>\n",
       "      <td>176321</td>\n",
       "      <td>243820</td>\n",
       "      <td>2013-03-25</td>\n",
       "      <td>0.0</td>\n",
       "      <td>42760698</td>\n",
       "      <td>1</td>\n",
       "      <td>1957688344</td>\n",
       "      <td>0.75</td>\n",
       "      <td>1386413202</td>\n",
       "    </tr>\n",
       "    <tr>\n",
       "      <th>1</th>\n",
       "      <td>175261390705</td>\n",
       "      <td>625933</td>\n",
       "      <td>37568</td>\n",
       "      <td>191747</td>\n",
       "      <td>2013-03-15</td>\n",
       "      <td>0.0</td>\n",
       "      <td>75228190</td>\n",
       "      <td>1</td>\n",
       "      <td>1154816776</td>\n",
       "      <td>2.00</td>\n",
       "      <td>1234009542</td>\n",
       "    </tr>\n",
       "    <tr>\n",
       "      <th>2</th>\n",
       "      <td>273751574633</td>\n",
       "      <td>527828</td>\n",
       "      <td>209524</td>\n",
       "      <td>165933</td>\n",
       "      <td>2013-03-23</td>\n",
       "      <td>1.0</td>\n",
       "      <td>51006740</td>\n",
       "      <td>1</td>\n",
       "      <td>1593002228</td>\n",
       "      <td>1.00</td>\n",
       "      <td>189092190</td>\n",
       "    </tr>\n",
       "    <tr>\n",
       "      <th>3</th>\n",
       "      <td>166923268906</td>\n",
       "      <td>1056730</td>\n",
       "      <td>214816</td>\n",
       "      <td>5506</td>\n",
       "      <td>2013-03-20</td>\n",
       "      <td>0.0</td>\n",
       "      <td>8946099</td>\n",
       "      <td>1</td>\n",
       "      <td>1150283635</td>\n",
       "      <td>2.00</td>\n",
       "      <td>86145108</td>\n",
       "    </tr>\n",
       "    <tr>\n",
       "      <th>4</th>\n",
       "      <td>135410903443</td>\n",
       "      <td>241369</td>\n",
       "      <td>176321</td>\n",
       "      <td>278897</td>\n",
       "      <td>2013-03-25</td>\n",
       "      <td>0.0</td>\n",
       "      <td>42760698</td>\n",
       "      <td>1</td>\n",
       "      <td>1957688344</td>\n",
       "      <td>0.75</td>\n",
       "      <td>1386413202</td>\n",
       "    </tr>\n",
       "  </tbody>\n",
       "</table>\n",
       "</div>"
      ],
      "text/plain": [
       "             id    store   promo  region  promodate  active  category  \\\n",
       "0  115562959531   860548  176321  243820 2013-03-25     0.0  42760698   \n",
       "1  175261390705   625933   37568  191747 2013-03-15     0.0  75228190   \n",
       "2  273751574633   527828  209524  165933 2013-03-23     1.0  51006740   \n",
       "3  166923268906  1056730  214816    5506 2013-03-20     0.0   8946099   \n",
       "4  135410903443   241369  176321  278897 2013-03-25     0.0  42760698   \n",
       "\n",
       "   promoqty  manufacturer  promoval       brand  \n",
       "0         1    1957688344      0.75  1386413202  \n",
       "1         1    1154816776      2.00  1234009542  \n",
       "2         1    1593002228      1.00   189092190  \n",
       "3         1    1150283635      2.00    86145108  \n",
       "4         1    1957688344      0.75  1386413202  "
      ]
     },
     "execution_count": 211,
     "metadata": {},
     "output_type": "execute_result"
    }
   ],
   "source": [
    "train_promo_merged = pd.merge(train_history, promos, how='left', on='promo')\n",
    "train_promo_merged.head()"
   ]
  },
  {
   "cell_type": "code",
   "execution_count": 212,
   "metadata": {},
   "outputs": [
    {
     "data": {
      "text/html": [
       "<div>\n",
       "<style scoped>\n",
       "    .dataframe tbody tr th:only-of-type {\n",
       "        vertical-align: middle;\n",
       "    }\n",
       "\n",
       "    .dataframe tbody tr th {\n",
       "        vertical-align: top;\n",
       "    }\n",
       "\n",
       "    .dataframe thead th {\n",
       "        text-align: right;\n",
       "    }\n",
       "</style>\n",
       "<table border=\"1\" class=\"dataframe\">\n",
       "  <thead>\n",
       "    <tr style=\"text-align: right;\">\n",
       "      <th></th>\n",
       "      <th>id</th>\n",
       "      <th>store</th>\n",
       "      <th>promo</th>\n",
       "      <th>region</th>\n",
       "      <th>promodate</th>\n",
       "      <th>active</th>\n",
       "      <th>category</th>\n",
       "      <th>promoqty</th>\n",
       "      <th>manufacturer</th>\n",
       "      <th>promoval</th>\n",
       "      <th>brand</th>\n",
       "      <th>category_count</th>\n",
       "    </tr>\n",
       "  </thead>\n",
       "  <tbody>\n",
       "    <tr>\n",
       "      <th>0</th>\n",
       "      <td>115562959531</td>\n",
       "      <td>860548</td>\n",
       "      <td>176321</td>\n",
       "      <td>243820</td>\n",
       "      <td>2013-03-25</td>\n",
       "      <td>0.0</td>\n",
       "      <td>42760698</td>\n",
       "      <td>1</td>\n",
       "      <td>1957688344</td>\n",
       "      <td>0.75</td>\n",
       "      <td>1386413202</td>\n",
       "      <td>1.0</td>\n",
       "    </tr>\n",
       "    <tr>\n",
       "      <th>1</th>\n",
       "      <td>175261390705</td>\n",
       "      <td>625933</td>\n",
       "      <td>37568</td>\n",
       "      <td>191747</td>\n",
       "      <td>2013-03-15</td>\n",
       "      <td>0.0</td>\n",
       "      <td>75228190</td>\n",
       "      <td>1</td>\n",
       "      <td>1154816776</td>\n",
       "      <td>2.00</td>\n",
       "      <td>1234009542</td>\n",
       "      <td>NaN</td>\n",
       "    </tr>\n",
       "    <tr>\n",
       "      <th>2</th>\n",
       "      <td>273751574633</td>\n",
       "      <td>527828</td>\n",
       "      <td>209524</td>\n",
       "      <td>165933</td>\n",
       "      <td>2013-03-23</td>\n",
       "      <td>1.0</td>\n",
       "      <td>51006740</td>\n",
       "      <td>1</td>\n",
       "      <td>1593002228</td>\n",
       "      <td>1.00</td>\n",
       "      <td>189092190</td>\n",
       "      <td>3.0</td>\n",
       "    </tr>\n",
       "    <tr>\n",
       "      <th>3</th>\n",
       "      <td>166923268906</td>\n",
       "      <td>1056730</td>\n",
       "      <td>214816</td>\n",
       "      <td>5506</td>\n",
       "      <td>2013-03-20</td>\n",
       "      <td>0.0</td>\n",
       "      <td>8946099</td>\n",
       "      <td>1</td>\n",
       "      <td>1150283635</td>\n",
       "      <td>2.00</td>\n",
       "      <td>86145108</td>\n",
       "      <td>2.0</td>\n",
       "    </tr>\n",
       "    <tr>\n",
       "      <th>4</th>\n",
       "      <td>135410903443</td>\n",
       "      <td>241369</td>\n",
       "      <td>176321</td>\n",
       "      <td>278897</td>\n",
       "      <td>2013-03-25</td>\n",
       "      <td>0.0</td>\n",
       "      <td>42760698</td>\n",
       "      <td>1</td>\n",
       "      <td>1957688344</td>\n",
       "      <td>0.75</td>\n",
       "      <td>1386413202</td>\n",
       "      <td>NaN</td>\n",
       "    </tr>\n",
       "  </tbody>\n",
       "</table>\n",
       "</div>"
      ],
      "text/plain": [
       "             id    store   promo  region  promodate  active  category  \\\n",
       "0  115562959531   860548  176321  243820 2013-03-25     0.0  42760698   \n",
       "1  175261390705   625933   37568  191747 2013-03-15     0.0  75228190   \n",
       "2  273751574633   527828  209524  165933 2013-03-23     1.0  51006740   \n",
       "3  166923268906  1056730  214816    5506 2013-03-20     0.0   8946099   \n",
       "4  135410903443   241369  176321  278897 2013-03-25     0.0  42760698   \n",
       "\n",
       "   promoqty  manufacturer  promoval       brand  category_count  \n",
       "0         1    1957688344      0.75  1386413202             1.0  \n",
       "1         1    1154816776      2.00  1234009542             NaN  \n",
       "2         1    1593002228      1.00   189092190             3.0  \n",
       "3         1    1150283635      2.00    86145108             2.0  \n",
       "4         1    1957688344      0.75  1386413202             NaN  "
      ]
     },
     "execution_count": 212,
     "metadata": {},
     "output_type": "execute_result"
    }
   ],
   "source": [
    "train_promo_merged = pd.merge(train_promo_merged, transactions_cat_count, how='left', on=['id', 'category'])\n",
    "train_promo_merged.head()"
   ]
  },
  {
   "cell_type": "code",
   "execution_count": 213,
   "metadata": {},
   "outputs": [
    {
     "data": {
      "text/html": [
       "<div>\n",
       "<style scoped>\n",
       "    .dataframe tbody tr th:only-of-type {\n",
       "        vertical-align: middle;\n",
       "    }\n",
       "\n",
       "    .dataframe tbody tr th {\n",
       "        vertical-align: top;\n",
       "    }\n",
       "\n",
       "    .dataframe thead th {\n",
       "        text-align: right;\n",
       "    }\n",
       "</style>\n",
       "<table border=\"1\" class=\"dataframe\">\n",
       "  <thead>\n",
       "    <tr style=\"text-align: right;\">\n",
       "      <th></th>\n",
       "      <th>id</th>\n",
       "      <th>store</th>\n",
       "      <th>promo</th>\n",
       "      <th>region</th>\n",
       "      <th>promodate</th>\n",
       "      <th>active</th>\n",
       "      <th>category</th>\n",
       "      <th>promoqty</th>\n",
       "      <th>manufacturer</th>\n",
       "      <th>promoval</th>\n",
       "      <th>brand</th>\n",
       "      <th>category_count</th>\n",
       "      <th>brand_count</th>\n",
       "    </tr>\n",
       "  </thead>\n",
       "  <tbody>\n",
       "    <tr>\n",
       "      <th>0</th>\n",
       "      <td>115562959531</td>\n",
       "      <td>860548</td>\n",
       "      <td>176321</td>\n",
       "      <td>243820</td>\n",
       "      <td>2013-03-25</td>\n",
       "      <td>0.0</td>\n",
       "      <td>42760698</td>\n",
       "      <td>1</td>\n",
       "      <td>1957688344</td>\n",
       "      <td>0.75</td>\n",
       "      <td>1386413202</td>\n",
       "      <td>1.0</td>\n",
       "      <td>NaN</td>\n",
       "    </tr>\n",
       "    <tr>\n",
       "      <th>1</th>\n",
       "      <td>175261390705</td>\n",
       "      <td>625933</td>\n",
       "      <td>37568</td>\n",
       "      <td>191747</td>\n",
       "      <td>2013-03-15</td>\n",
       "      <td>0.0</td>\n",
       "      <td>75228190</td>\n",
       "      <td>1</td>\n",
       "      <td>1154816776</td>\n",
       "      <td>2.00</td>\n",
       "      <td>1234009542</td>\n",
       "      <td>NaN</td>\n",
       "      <td>35.0</td>\n",
       "    </tr>\n",
       "    <tr>\n",
       "      <th>2</th>\n",
       "      <td>273751574633</td>\n",
       "      <td>527828</td>\n",
       "      <td>209524</td>\n",
       "      <td>165933</td>\n",
       "      <td>2013-03-23</td>\n",
       "      <td>1.0</td>\n",
       "      <td>51006740</td>\n",
       "      <td>1</td>\n",
       "      <td>1593002228</td>\n",
       "      <td>1.00</td>\n",
       "      <td>189092190</td>\n",
       "      <td>3.0</td>\n",
       "      <td>NaN</td>\n",
       "    </tr>\n",
       "    <tr>\n",
       "      <th>3</th>\n",
       "      <td>166923268906</td>\n",
       "      <td>1056730</td>\n",
       "      <td>214816</td>\n",
       "      <td>5506</td>\n",
       "      <td>2013-03-20</td>\n",
       "      <td>0.0</td>\n",
       "      <td>8946099</td>\n",
       "      <td>1</td>\n",
       "      <td>1150283635</td>\n",
       "      <td>2.00</td>\n",
       "      <td>86145108</td>\n",
       "      <td>2.0</td>\n",
       "      <td>2.0</td>\n",
       "    </tr>\n",
       "    <tr>\n",
       "      <th>4</th>\n",
       "      <td>135410903443</td>\n",
       "      <td>241369</td>\n",
       "      <td>176321</td>\n",
       "      <td>278897</td>\n",
       "      <td>2013-03-25</td>\n",
       "      <td>0.0</td>\n",
       "      <td>42760698</td>\n",
       "      <td>1</td>\n",
       "      <td>1957688344</td>\n",
       "      <td>0.75</td>\n",
       "      <td>1386413202</td>\n",
       "      <td>NaN</td>\n",
       "      <td>NaN</td>\n",
       "    </tr>\n",
       "  </tbody>\n",
       "</table>\n",
       "</div>"
      ],
      "text/plain": [
       "             id    store   promo  region  promodate  active  category  \\\n",
       "0  115562959531   860548  176321  243820 2013-03-25     0.0  42760698   \n",
       "1  175261390705   625933   37568  191747 2013-03-15     0.0  75228190   \n",
       "2  273751574633   527828  209524  165933 2013-03-23     1.0  51006740   \n",
       "3  166923268906  1056730  214816    5506 2013-03-20     0.0   8946099   \n",
       "4  135410903443   241369  176321  278897 2013-03-25     0.0  42760698   \n",
       "\n",
       "   promoqty  manufacturer  promoval       brand  category_count  brand_count  \n",
       "0         1    1957688344      0.75  1386413202             1.0          NaN  \n",
       "1         1    1154816776      2.00  1234009542             NaN         35.0  \n",
       "2         1    1593002228      1.00   189092190             3.0          NaN  \n",
       "3         1    1150283635      2.00    86145108             2.0          2.0  \n",
       "4         1    1957688344      0.75  1386413202             NaN          NaN  "
      ]
     },
     "execution_count": 213,
     "metadata": {},
     "output_type": "execute_result"
    }
   ],
   "source": [
    "train_promo_merged = pd.merge(train_promo_merged, transactions_brand_count, how='left', on=['id', 'brand'])\n",
    "train_promo_merged.head()"
   ]
  },
  {
   "cell_type": "code",
   "execution_count": 214,
   "metadata": {},
   "outputs": [
    {
     "data": {
      "text/html": [
       "<div>\n",
       "<style scoped>\n",
       "    .dataframe tbody tr th:only-of-type {\n",
       "        vertical-align: middle;\n",
       "    }\n",
       "\n",
       "    .dataframe tbody tr th {\n",
       "        vertical-align: top;\n",
       "    }\n",
       "\n",
       "    .dataframe thead th {\n",
       "        text-align: right;\n",
       "    }\n",
       "</style>\n",
       "<table border=\"1\" class=\"dataframe\">\n",
       "  <thead>\n",
       "    <tr style=\"text-align: right;\">\n",
       "      <th></th>\n",
       "      <th>id</th>\n",
       "      <th>store</th>\n",
       "      <th>promo</th>\n",
       "      <th>region</th>\n",
       "      <th>active</th>\n",
       "      <th>promoval</th>\n",
       "      <th>category_count</th>\n",
       "      <th>brand_count</th>\n",
       "    </tr>\n",
       "  </thead>\n",
       "  <tbody>\n",
       "    <tr>\n",
       "      <th>0</th>\n",
       "      <td>115562959531</td>\n",
       "      <td>860548</td>\n",
       "      <td>176321</td>\n",
       "      <td>243820</td>\n",
       "      <td>0.0</td>\n",
       "      <td>0.75</td>\n",
       "      <td>1.0</td>\n",
       "      <td>NaN</td>\n",
       "    </tr>\n",
       "    <tr>\n",
       "      <th>1</th>\n",
       "      <td>175261390705</td>\n",
       "      <td>625933</td>\n",
       "      <td>37568</td>\n",
       "      <td>191747</td>\n",
       "      <td>0.0</td>\n",
       "      <td>2.00</td>\n",
       "      <td>NaN</td>\n",
       "      <td>35.0</td>\n",
       "    </tr>\n",
       "    <tr>\n",
       "      <th>2</th>\n",
       "      <td>273751574633</td>\n",
       "      <td>527828</td>\n",
       "      <td>209524</td>\n",
       "      <td>165933</td>\n",
       "      <td>1.0</td>\n",
       "      <td>1.00</td>\n",
       "      <td>3.0</td>\n",
       "      <td>NaN</td>\n",
       "    </tr>\n",
       "    <tr>\n",
       "      <th>3</th>\n",
       "      <td>166923268906</td>\n",
       "      <td>1056730</td>\n",
       "      <td>214816</td>\n",
       "      <td>5506</td>\n",
       "      <td>0.0</td>\n",
       "      <td>2.00</td>\n",
       "      <td>2.0</td>\n",
       "      <td>2.0</td>\n",
       "    </tr>\n",
       "    <tr>\n",
       "      <th>4</th>\n",
       "      <td>135410903443</td>\n",
       "      <td>241369</td>\n",
       "      <td>176321</td>\n",
       "      <td>278897</td>\n",
       "      <td>0.0</td>\n",
       "      <td>0.75</td>\n",
       "      <td>NaN</td>\n",
       "      <td>NaN</td>\n",
       "    </tr>\n",
       "  </tbody>\n",
       "</table>\n",
       "</div>"
      ],
      "text/plain": [
       "             id    store   promo  region  active  promoval  category_count  \\\n",
       "0  115562959531   860548  176321  243820     0.0      0.75             1.0   \n",
       "1  175261390705   625933   37568  191747     0.0      2.00             NaN   \n",
       "2  273751574633   527828  209524  165933     1.0      1.00             3.0   \n",
       "3  166923268906  1056730  214816    5506     0.0      2.00             2.0   \n",
       "4  135410903443   241369  176321  278897     0.0      0.75             NaN   \n",
       "\n",
       "   brand_count  \n",
       "0          NaN  \n",
       "1         35.0  \n",
       "2          NaN  \n",
       "3          2.0  \n",
       "4          NaN  "
      ]
     },
     "execution_count": 214,
     "metadata": {},
     "output_type": "execute_result"
    }
   ],
   "source": [
    "train_promo_merged.drop(['manufacturer', 'brand', 'promodate', 'promoqty', 'category'], axis=1, inplace=True)\n",
    "train_promo_merged.head()"
   ]
  },
  {
   "cell_type": "code",
   "execution_count": 215,
   "metadata": {},
   "outputs": [
    {
     "data": {
      "text/plain": [
       "id                  int64\n",
       "store               int64\n",
       "promo               int64\n",
       "region              int64\n",
       "active            float64\n",
       "promoval          float64\n",
       "category_count    float64\n",
       "brand_count       float64\n",
       "dtype: object"
      ]
     },
     "execution_count": 215,
     "metadata": {},
     "output_type": "execute_result"
    }
   ],
   "source": [
    "train_promo_merged.dtypes"
   ]
  },
  {
   "cell_type": "markdown",
   "metadata": {},
   "source": [
    "## OneHotEncode Train"
   ]
  },
  {
   "cell_type": "code",
   "execution_count": 216,
   "metadata": {},
   "outputs": [],
   "source": [
    "cat_list = ['store', 'promo', 'region']"
   ]
  },
  {
   "cell_type": "code",
   "execution_count": 217,
   "metadata": {},
   "outputs": [
    {
     "data": {
      "text/plain": [
       "id                  int64\n",
       "store              object\n",
       "promo              object\n",
       "region             object\n",
       "active            float64\n",
       "promoval          float64\n",
       "category_count    float64\n",
       "brand_count       float64\n",
       "dtype: object"
      ]
     },
     "execution_count": 217,
     "metadata": {},
     "output_type": "execute_result"
    }
   ],
   "source": [
    "for cat in cat_list:\n",
    "    train_promo_merged[cat] = train_promo_merged[cat].astype(str)\n",
    "train_promo_merged.dtypes"
   ]
  },
  {
   "cell_type": "code",
   "execution_count": 218,
   "metadata": {},
   "outputs": [
    {
     "name": "stderr",
     "output_type": "stream",
     "text": [
      "C:\\Users\\ddjgy\\anaconda3\\lib\\site-packages\\sklearn\\utils\\deprecation.py:87: FutureWarning: Function get_feature_names is deprecated; get_feature_names is deprecated in 1.0 and will be removed in 1.2. Please use get_feature_names_out instead.\n",
      "  warnings.warn(msg, category=FutureWarning)\n"
     ]
    },
    {
     "data": {
      "text/html": [
       "<div>\n",
       "<style scoped>\n",
       "    .dataframe tbody tr th:only-of-type {\n",
       "        vertical-align: middle;\n",
       "    }\n",
       "\n",
       "    .dataframe tbody tr th {\n",
       "        vertical-align: top;\n",
       "    }\n",
       "\n",
       "    .dataframe thead th {\n",
       "        text-align: right;\n",
       "    }\n",
       "</style>\n",
       "<table border=\"1\" class=\"dataframe\">\n",
       "  <thead>\n",
       "    <tr style=\"text-align: right;\">\n",
       "      <th></th>\n",
       "      <th>id</th>\n",
       "      <th>store</th>\n",
       "      <th>promo</th>\n",
       "      <th>region</th>\n",
       "      <th>active</th>\n",
       "      <th>promoval</th>\n",
       "      <th>category_count</th>\n",
       "      <th>brand_count</th>\n",
       "      <th>x0_1020264</th>\n",
       "      <th>x0_1026678</th>\n",
       "      <th>...</th>\n",
       "      <th>x2_334402</th>\n",
       "      <th>x2_36431</th>\n",
       "      <th>x2_36835</th>\n",
       "      <th>x2_42449</th>\n",
       "      <th>x2_42773</th>\n",
       "      <th>x2_48013</th>\n",
       "      <th>x2_5506</th>\n",
       "      <th>x2_62416</th>\n",
       "      <th>x2_67664</th>\n",
       "      <th>x2_7892</th>\n",
       "    </tr>\n",
       "  </thead>\n",
       "  <tbody>\n",
       "    <tr>\n",
       "      <th>0</th>\n",
       "      <td>115562959531</td>\n",
       "      <td>860548</td>\n",
       "      <td>176321</td>\n",
       "      <td>243820</td>\n",
       "      <td>0.0</td>\n",
       "      <td>0.75</td>\n",
       "      <td>1.0</td>\n",
       "      <td>NaN</td>\n",
       "      <td>0.0</td>\n",
       "      <td>0.0</td>\n",
       "      <td>...</td>\n",
       "      <td>0.0</td>\n",
       "      <td>0.0</td>\n",
       "      <td>0.0</td>\n",
       "      <td>0.0</td>\n",
       "      <td>0.0</td>\n",
       "      <td>0.0</td>\n",
       "      <td>0.0</td>\n",
       "      <td>0.0</td>\n",
       "      <td>0.0</td>\n",
       "      <td>0.0</td>\n",
       "    </tr>\n",
       "    <tr>\n",
       "      <th>1</th>\n",
       "      <td>175261390705</td>\n",
       "      <td>625933</td>\n",
       "      <td>37568</td>\n",
       "      <td>191747</td>\n",
       "      <td>0.0</td>\n",
       "      <td>2.00</td>\n",
       "      <td>NaN</td>\n",
       "      <td>35.0</td>\n",
       "      <td>0.0</td>\n",
       "      <td>0.0</td>\n",
       "      <td>...</td>\n",
       "      <td>0.0</td>\n",
       "      <td>0.0</td>\n",
       "      <td>0.0</td>\n",
       "      <td>0.0</td>\n",
       "      <td>0.0</td>\n",
       "      <td>0.0</td>\n",
       "      <td>0.0</td>\n",
       "      <td>0.0</td>\n",
       "      <td>0.0</td>\n",
       "      <td>0.0</td>\n",
       "    </tr>\n",
       "    <tr>\n",
       "      <th>2</th>\n",
       "      <td>273751574633</td>\n",
       "      <td>527828</td>\n",
       "      <td>209524</td>\n",
       "      <td>165933</td>\n",
       "      <td>1.0</td>\n",
       "      <td>1.00</td>\n",
       "      <td>3.0</td>\n",
       "      <td>NaN</td>\n",
       "      <td>0.0</td>\n",
       "      <td>0.0</td>\n",
       "      <td>...</td>\n",
       "      <td>0.0</td>\n",
       "      <td>0.0</td>\n",
       "      <td>0.0</td>\n",
       "      <td>0.0</td>\n",
       "      <td>0.0</td>\n",
       "      <td>0.0</td>\n",
       "      <td>0.0</td>\n",
       "      <td>0.0</td>\n",
       "      <td>0.0</td>\n",
       "      <td>0.0</td>\n",
       "    </tr>\n",
       "    <tr>\n",
       "      <th>3</th>\n",
       "      <td>166923268906</td>\n",
       "      <td>1056730</td>\n",
       "      <td>214816</td>\n",
       "      <td>5506</td>\n",
       "      <td>0.0</td>\n",
       "      <td>2.00</td>\n",
       "      <td>2.0</td>\n",
       "      <td>2.0</td>\n",
       "      <td>0.0</td>\n",
       "      <td>0.0</td>\n",
       "      <td>...</td>\n",
       "      <td>0.0</td>\n",
       "      <td>0.0</td>\n",
       "      <td>0.0</td>\n",
       "      <td>0.0</td>\n",
       "      <td>0.0</td>\n",
       "      <td>0.0</td>\n",
       "      <td>1.0</td>\n",
       "      <td>0.0</td>\n",
       "      <td>0.0</td>\n",
       "      <td>0.0</td>\n",
       "    </tr>\n",
       "    <tr>\n",
       "      <th>4</th>\n",
       "      <td>135410903443</td>\n",
       "      <td>241369</td>\n",
       "      <td>176321</td>\n",
       "      <td>278897</td>\n",
       "      <td>0.0</td>\n",
       "      <td>0.75</td>\n",
       "      <td>NaN</td>\n",
       "      <td>NaN</td>\n",
       "      <td>0.0</td>\n",
       "      <td>0.0</td>\n",
       "      <td>...</td>\n",
       "      <td>0.0</td>\n",
       "      <td>0.0</td>\n",
       "      <td>0.0</td>\n",
       "      <td>0.0</td>\n",
       "      <td>0.0</td>\n",
       "      <td>0.0</td>\n",
       "      <td>0.0</td>\n",
       "      <td>0.0</td>\n",
       "      <td>0.0</td>\n",
       "      <td>0.0</td>\n",
       "    </tr>\n",
       "  </tbody>\n",
       "</table>\n",
       "<p>5 rows × 162 columns</p>\n",
       "</div>"
      ],
      "text/plain": [
       "             id    store   promo  region  active  promoval  category_count  \\\n",
       "0  115562959531   860548  176321  243820     0.0      0.75             1.0   \n",
       "1  175261390705   625933   37568  191747     0.0      2.00             NaN   \n",
       "2  273751574633   527828  209524  165933     1.0      1.00             3.0   \n",
       "3  166923268906  1056730  214816    5506     0.0      2.00             2.0   \n",
       "4  135410903443   241369  176321  278897     0.0      0.75             NaN   \n",
       "\n",
       "   brand_count  x0_1020264  x0_1026678  ...  x2_334402  x2_36431  x2_36835  \\\n",
       "0          NaN         0.0         0.0  ...        0.0       0.0       0.0   \n",
       "1         35.0         0.0         0.0  ...        0.0       0.0       0.0   \n",
       "2          NaN         0.0         0.0  ...        0.0       0.0       0.0   \n",
       "3          2.0         0.0         0.0  ...        0.0       0.0       0.0   \n",
       "4          NaN         0.0         0.0  ...        0.0       0.0       0.0   \n",
       "\n",
       "   x2_42449  x2_42773  x2_48013  x2_5506  x2_62416  x2_67664  x2_7892  \n",
       "0       0.0       0.0       0.0      0.0       0.0       0.0      0.0  \n",
       "1       0.0       0.0       0.0      0.0       0.0       0.0      0.0  \n",
       "2       0.0       0.0       0.0      0.0       0.0       0.0      0.0  \n",
       "3       0.0       0.0       0.0      1.0       0.0       0.0      0.0  \n",
       "4       0.0       0.0       0.0      0.0       0.0       0.0      0.0  \n",
       "\n",
       "[5 rows x 162 columns]"
      ]
     },
     "execution_count": 218,
     "metadata": {},
     "output_type": "execute_result"
    }
   ],
   "source": [
    "enc = OneHotEncoder(handle_unknown='ignore')\n",
    "enc_data = enc.fit_transform(train_promo_merged[cat_list]).toarray()\n",
    "enc_df = pd.DataFrame(enc_data, columns=enc.get_feature_names())\n",
    "\n",
    "train_merged_onehot_df = pd.concat([train_promo_merged, enc_df], axis=1)\n",
    "train_merged_onehot_df.head()"
   ]
  },
  {
   "cell_type": "code",
   "execution_count": 219,
   "metadata": {},
   "outputs": [
    {
     "data": {
      "text/html": [
       "<div>\n",
       "<style scoped>\n",
       "    .dataframe tbody tr th:only-of-type {\n",
       "        vertical-align: middle;\n",
       "    }\n",
       "\n",
       "    .dataframe tbody tr th {\n",
       "        vertical-align: top;\n",
       "    }\n",
       "\n",
       "    .dataframe thead th {\n",
       "        text-align: right;\n",
       "    }\n",
       "</style>\n",
       "<table border=\"1\" class=\"dataframe\">\n",
       "  <thead>\n",
       "    <tr style=\"text-align: right;\">\n",
       "      <th></th>\n",
       "      <th>id</th>\n",
       "      <th>active</th>\n",
       "      <th>promoval</th>\n",
       "      <th>category_count</th>\n",
       "      <th>brand_count</th>\n",
       "      <th>x0_1020264</th>\n",
       "      <th>x0_1026678</th>\n",
       "      <th>x0_1027597</th>\n",
       "      <th>x0_1050704</th>\n",
       "      <th>x0_1053332</th>\n",
       "      <th>...</th>\n",
       "      <th>x2_334402</th>\n",
       "      <th>x2_36431</th>\n",
       "      <th>x2_36835</th>\n",
       "      <th>x2_42449</th>\n",
       "      <th>x2_42773</th>\n",
       "      <th>x2_48013</th>\n",
       "      <th>x2_5506</th>\n",
       "      <th>x2_62416</th>\n",
       "      <th>x2_67664</th>\n",
       "      <th>x2_7892</th>\n",
       "    </tr>\n",
       "  </thead>\n",
       "  <tbody>\n",
       "    <tr>\n",
       "      <th>0</th>\n",
       "      <td>115562959531</td>\n",
       "      <td>0.0</td>\n",
       "      <td>0.75</td>\n",
       "      <td>1.0</td>\n",
       "      <td>NaN</td>\n",
       "      <td>0.0</td>\n",
       "      <td>0.0</td>\n",
       "      <td>0.0</td>\n",
       "      <td>0.0</td>\n",
       "      <td>0.0</td>\n",
       "      <td>...</td>\n",
       "      <td>0.0</td>\n",
       "      <td>0.0</td>\n",
       "      <td>0.0</td>\n",
       "      <td>0.0</td>\n",
       "      <td>0.0</td>\n",
       "      <td>0.0</td>\n",
       "      <td>0.0</td>\n",
       "      <td>0.0</td>\n",
       "      <td>0.0</td>\n",
       "      <td>0.0</td>\n",
       "    </tr>\n",
       "    <tr>\n",
       "      <th>1</th>\n",
       "      <td>175261390705</td>\n",
       "      <td>0.0</td>\n",
       "      <td>2.00</td>\n",
       "      <td>NaN</td>\n",
       "      <td>35.0</td>\n",
       "      <td>0.0</td>\n",
       "      <td>0.0</td>\n",
       "      <td>0.0</td>\n",
       "      <td>0.0</td>\n",
       "      <td>0.0</td>\n",
       "      <td>...</td>\n",
       "      <td>0.0</td>\n",
       "      <td>0.0</td>\n",
       "      <td>0.0</td>\n",
       "      <td>0.0</td>\n",
       "      <td>0.0</td>\n",
       "      <td>0.0</td>\n",
       "      <td>0.0</td>\n",
       "      <td>0.0</td>\n",
       "      <td>0.0</td>\n",
       "      <td>0.0</td>\n",
       "    </tr>\n",
       "    <tr>\n",
       "      <th>2</th>\n",
       "      <td>273751574633</td>\n",
       "      <td>1.0</td>\n",
       "      <td>1.00</td>\n",
       "      <td>3.0</td>\n",
       "      <td>NaN</td>\n",
       "      <td>0.0</td>\n",
       "      <td>0.0</td>\n",
       "      <td>0.0</td>\n",
       "      <td>0.0</td>\n",
       "      <td>0.0</td>\n",
       "      <td>...</td>\n",
       "      <td>0.0</td>\n",
       "      <td>0.0</td>\n",
       "      <td>0.0</td>\n",
       "      <td>0.0</td>\n",
       "      <td>0.0</td>\n",
       "      <td>0.0</td>\n",
       "      <td>0.0</td>\n",
       "      <td>0.0</td>\n",
       "      <td>0.0</td>\n",
       "      <td>0.0</td>\n",
       "    </tr>\n",
       "    <tr>\n",
       "      <th>3</th>\n",
       "      <td>166923268906</td>\n",
       "      <td>0.0</td>\n",
       "      <td>2.00</td>\n",
       "      <td>2.0</td>\n",
       "      <td>2.0</td>\n",
       "      <td>0.0</td>\n",
       "      <td>0.0</td>\n",
       "      <td>0.0</td>\n",
       "      <td>0.0</td>\n",
       "      <td>0.0</td>\n",
       "      <td>...</td>\n",
       "      <td>0.0</td>\n",
       "      <td>0.0</td>\n",
       "      <td>0.0</td>\n",
       "      <td>0.0</td>\n",
       "      <td>0.0</td>\n",
       "      <td>0.0</td>\n",
       "      <td>1.0</td>\n",
       "      <td>0.0</td>\n",
       "      <td>0.0</td>\n",
       "      <td>0.0</td>\n",
       "    </tr>\n",
       "    <tr>\n",
       "      <th>4</th>\n",
       "      <td>135410903443</td>\n",
       "      <td>0.0</td>\n",
       "      <td>0.75</td>\n",
       "      <td>NaN</td>\n",
       "      <td>NaN</td>\n",
       "      <td>0.0</td>\n",
       "      <td>0.0</td>\n",
       "      <td>0.0</td>\n",
       "      <td>0.0</td>\n",
       "      <td>0.0</td>\n",
       "      <td>...</td>\n",
       "      <td>0.0</td>\n",
       "      <td>0.0</td>\n",
       "      <td>0.0</td>\n",
       "      <td>0.0</td>\n",
       "      <td>0.0</td>\n",
       "      <td>0.0</td>\n",
       "      <td>0.0</td>\n",
       "      <td>0.0</td>\n",
       "      <td>0.0</td>\n",
       "      <td>0.0</td>\n",
       "    </tr>\n",
       "  </tbody>\n",
       "</table>\n",
       "<p>5 rows × 159 columns</p>\n",
       "</div>"
      ],
      "text/plain": [
       "             id  active  promoval  category_count  brand_count  x0_1020264  \\\n",
       "0  115562959531     0.0      0.75             1.0          NaN         0.0   \n",
       "1  175261390705     0.0      2.00             NaN         35.0         0.0   \n",
       "2  273751574633     1.0      1.00             3.0          NaN         0.0   \n",
       "3  166923268906     0.0      2.00             2.0          2.0         0.0   \n",
       "4  135410903443     0.0      0.75             NaN          NaN         0.0   \n",
       "\n",
       "   x0_1026678  x0_1027597  x0_1050704  x0_1053332  ...  x2_334402  x2_36431  \\\n",
       "0         0.0         0.0         0.0         0.0  ...        0.0       0.0   \n",
       "1         0.0         0.0         0.0         0.0  ...        0.0       0.0   \n",
       "2         0.0         0.0         0.0         0.0  ...        0.0       0.0   \n",
       "3         0.0         0.0         0.0         0.0  ...        0.0       0.0   \n",
       "4         0.0         0.0         0.0         0.0  ...        0.0       0.0   \n",
       "\n",
       "   x2_36835  x2_42449  x2_42773  x2_48013  x2_5506  x2_62416  x2_67664  \\\n",
       "0       0.0       0.0       0.0       0.0      0.0       0.0       0.0   \n",
       "1       0.0       0.0       0.0       0.0      0.0       0.0       0.0   \n",
       "2       0.0       0.0       0.0       0.0      0.0       0.0       0.0   \n",
       "3       0.0       0.0       0.0       0.0      1.0       0.0       0.0   \n",
       "4       0.0       0.0       0.0       0.0      0.0       0.0       0.0   \n",
       "\n",
       "   x2_7892  \n",
       "0      0.0  \n",
       "1      0.0  \n",
       "2      0.0  \n",
       "3      0.0  \n",
       "4      0.0  \n",
       "\n",
       "[5 rows x 159 columns]"
      ]
     },
     "execution_count": 219,
     "metadata": {},
     "output_type": "execute_result"
    }
   ],
   "source": [
    "train_merged_onehot_df.drop(cat_list, axis=1, inplace=True)\n",
    "train_merged_onehot_df.head()"
   ]
  },
  {
   "cell_type": "code",
   "execution_count": 220,
   "metadata": {},
   "outputs": [],
   "source": [
    "# categorical_features = ['market_group', 'category', 'manufacturer', 'brand']\n",
    "\n",
    "# preprocessor = ColumnTransformer(\n",
    "#     transformers=[\n",
    "#         ('cat', OneHotEncoder(), categorical_features)],\n",
    "#     remainder='passthrough'\n",
    "# )\n",
    "\n",
    "# encoded_transactions = preprocessor.fit_transform(transactions_cat_df)\n",
    "# encoded_transactions.head()"
   ]
  },
  {
   "cell_type": "markdown",
   "metadata": {
    "id": "W6OJV3ONIaSU"
   },
   "source": [
    "# Extract Features"
   ]
  },
  {
   "cell_type": "markdown",
   "metadata": {
    "id": "PP6h3QGaIaSW"
   },
   "source": [
    "## Generate train, test and prediction sets"
   ]
  },
  {
   "cell_type": "code",
   "execution_count": 221,
   "metadata": {},
   "outputs": [],
   "source": [
    "seed = 84"
   ]
  },
  {
   "cell_type": "code",
   "execution_count": 222,
   "metadata": {},
   "outputs": [
    {
     "data": {
      "text/plain": [
       "Index(['id', 'recency_3_month', 'frequency_3_month', 'monetary_3_month'], dtype='object')"
      ]
     },
     "execution_count": 222,
     "metadata": {},
     "output_type": "execute_result"
    }
   ],
   "source": [
    "transactions_3_month_transf.columns"
   ]
  },
  {
   "cell_type": "code",
   "execution_count": 223,
   "metadata": {},
   "outputs": [
    {
     "data": {
      "text/html": [
       "<div>\n",
       "<style scoped>\n",
       "    .dataframe tbody tr th:only-of-type {\n",
       "        vertical-align: middle;\n",
       "    }\n",
       "\n",
       "    .dataframe tbody tr th {\n",
       "        vertical-align: top;\n",
       "    }\n",
       "\n",
       "    .dataframe thead th {\n",
       "        text-align: right;\n",
       "    }\n",
       "</style>\n",
       "<table border=\"1\" class=\"dataframe\">\n",
       "  <thead>\n",
       "    <tr style=\"text-align: right;\">\n",
       "      <th></th>\n",
       "      <th>id</th>\n",
       "      <th>active</th>\n",
       "      <th>promoval</th>\n",
       "      <th>category_count</th>\n",
       "      <th>brand_count</th>\n",
       "      <th>x0_1020264</th>\n",
       "      <th>x0_1026678</th>\n",
       "      <th>x0_1027597</th>\n",
       "      <th>x0_1050704</th>\n",
       "      <th>x0_1053332</th>\n",
       "      <th>...</th>\n",
       "      <th>x2_5506</th>\n",
       "      <th>x2_62416</th>\n",
       "      <th>x2_67664</th>\n",
       "      <th>x2_7892</th>\n",
       "      <th>recency</th>\n",
       "      <th>frequency</th>\n",
       "      <th>monetary</th>\n",
       "      <th>recency_3_month</th>\n",
       "      <th>frequency_3_month</th>\n",
       "      <th>monetary_3_month</th>\n",
       "    </tr>\n",
       "  </thead>\n",
       "  <tbody>\n",
       "    <tr>\n",
       "      <th>0</th>\n",
       "      <td>115562959531</td>\n",
       "      <td>0.0</td>\n",
       "      <td>0.75</td>\n",
       "      <td>1.0</td>\n",
       "      <td>0.0</td>\n",
       "      <td>0.0</td>\n",
       "      <td>0.0</td>\n",
       "      <td>0.0</td>\n",
       "      <td>0.0</td>\n",
       "      <td>0.0</td>\n",
       "      <td>...</td>\n",
       "      <td>0.0</td>\n",
       "      <td>0.0</td>\n",
       "      <td>0.0</td>\n",
       "      <td>0.0</td>\n",
       "      <td>0.0</td>\n",
       "      <td>0.150000</td>\n",
       "      <td>2697.93</td>\n",
       "      <td>0.0</td>\n",
       "      <td>0.163043</td>\n",
       "      <td>788.78</td>\n",
       "    </tr>\n",
       "    <tr>\n",
       "      <th>1</th>\n",
       "      <td>175261390705</td>\n",
       "      <td>0.0</td>\n",
       "      <td>2.00</td>\n",
       "      <td>0.0</td>\n",
       "      <td>35.0</td>\n",
       "      <td>0.0</td>\n",
       "      <td>0.0</td>\n",
       "      <td>0.0</td>\n",
       "      <td>0.0</td>\n",
       "      <td>0.0</td>\n",
       "      <td>...</td>\n",
       "      <td>0.0</td>\n",
       "      <td>0.0</td>\n",
       "      <td>0.0</td>\n",
       "      <td>0.0</td>\n",
       "      <td>13.0</td>\n",
       "      <td>0.086835</td>\n",
       "      <td>1938.51</td>\n",
       "      <td>13.0</td>\n",
       "      <td>0.114943</td>\n",
       "      <td>713.86</td>\n",
       "    </tr>\n",
       "    <tr>\n",
       "      <th>2</th>\n",
       "      <td>273751574633</td>\n",
       "      <td>1.0</td>\n",
       "      <td>1.00</td>\n",
       "      <td>3.0</td>\n",
       "      <td>0.0</td>\n",
       "      <td>0.0</td>\n",
       "      <td>0.0</td>\n",
       "      <td>0.0</td>\n",
       "      <td>0.0</td>\n",
       "      <td>0.0</td>\n",
       "      <td>...</td>\n",
       "      <td>0.0</td>\n",
       "      <td>0.0</td>\n",
       "      <td>0.0</td>\n",
       "      <td>0.0</td>\n",
       "      <td>6.0</td>\n",
       "      <td>0.069277</td>\n",
       "      <td>420.44</td>\n",
       "      <td>6.0</td>\n",
       "      <td>0.065217</td>\n",
       "      <td>91.27</td>\n",
       "    </tr>\n",
       "    <tr>\n",
       "      <th>3</th>\n",
       "      <td>166923268906</td>\n",
       "      <td>0.0</td>\n",
       "      <td>2.00</td>\n",
       "      <td>2.0</td>\n",
       "      <td>2.0</td>\n",
       "      <td>0.0</td>\n",
       "      <td>0.0</td>\n",
       "      <td>0.0</td>\n",
       "      <td>0.0</td>\n",
       "      <td>0.0</td>\n",
       "      <td>...</td>\n",
       "      <td>1.0</td>\n",
       "      <td>0.0</td>\n",
       "      <td>0.0</td>\n",
       "      <td>0.0</td>\n",
       "      <td>1.0</td>\n",
       "      <td>0.212885</td>\n",
       "      <td>3823.56</td>\n",
       "      <td>1.0</td>\n",
       "      <td>0.388889</td>\n",
       "      <td>1782.19</td>\n",
       "    </tr>\n",
       "    <tr>\n",
       "      <th>4</th>\n",
       "      <td>135410903443</td>\n",
       "      <td>0.0</td>\n",
       "      <td>0.75</td>\n",
       "      <td>0.0</td>\n",
       "      <td>0.0</td>\n",
       "      <td>0.0</td>\n",
       "      <td>0.0</td>\n",
       "      <td>0.0</td>\n",
       "      <td>0.0</td>\n",
       "      <td>0.0</td>\n",
       "      <td>...</td>\n",
       "      <td>0.0</td>\n",
       "      <td>0.0</td>\n",
       "      <td>0.0</td>\n",
       "      <td>0.0</td>\n",
       "      <td>2.0</td>\n",
       "      <td>0.146409</td>\n",
       "      <td>3787.26</td>\n",
       "      <td>2.0</td>\n",
       "      <td>0.133333</td>\n",
       "      <td>901.13</td>\n",
       "    </tr>\n",
       "  </tbody>\n",
       "</table>\n",
       "<p>5 rows × 165 columns</p>\n",
       "</div>"
      ],
      "text/plain": [
       "             id  active  promoval  category_count  brand_count  x0_1020264  \\\n",
       "0  115562959531     0.0      0.75             1.0          0.0         0.0   \n",
       "1  175261390705     0.0      2.00             0.0         35.0         0.0   \n",
       "2  273751574633     1.0      1.00             3.0          0.0         0.0   \n",
       "3  166923268906     0.0      2.00             2.0          2.0         0.0   \n",
       "4  135410903443     0.0      0.75             0.0          0.0         0.0   \n",
       "\n",
       "   x0_1026678  x0_1027597  x0_1050704  x0_1053332  ...  x2_5506  x2_62416  \\\n",
       "0         0.0         0.0         0.0         0.0  ...      0.0       0.0   \n",
       "1         0.0         0.0         0.0         0.0  ...      0.0       0.0   \n",
       "2         0.0         0.0         0.0         0.0  ...      0.0       0.0   \n",
       "3         0.0         0.0         0.0         0.0  ...      1.0       0.0   \n",
       "4         0.0         0.0         0.0         0.0  ...      0.0       0.0   \n",
       "\n",
       "   x2_67664  x2_7892  recency  frequency  monetary  recency_3_month  \\\n",
       "0       0.0      0.0      0.0   0.150000   2697.93              0.0   \n",
       "1       0.0      0.0     13.0   0.086835   1938.51             13.0   \n",
       "2       0.0      0.0      6.0   0.069277    420.44              6.0   \n",
       "3       0.0      0.0      1.0   0.212885   3823.56              1.0   \n",
       "4       0.0      0.0      2.0   0.146409   3787.26              2.0   \n",
       "\n",
       "   frequency_3_month  monetary_3_month  \n",
       "0           0.163043            788.78  \n",
       "1           0.114943            713.86  \n",
       "2           0.065217             91.27  \n",
       "3           0.388889           1782.19  \n",
       "4           0.133333            901.13  \n",
       "\n",
       "[5 rows x 165 columns]"
      ]
     },
     "execution_count": 223,
     "metadata": {},
     "output_type": "execute_result"
    }
   ],
   "source": [
    "# Generate train/test features\n",
    "features = train_merged_onehot_df.merge(transactions_engineered_transf, on='id', how='left')\n",
    "features = features.merge(transactions_3_month_transf, on='id', how='left')\n",
    "features.recency.fillna(365, inplace=True)\n",
    "features.frequency.fillna(0, inplace=True)\n",
    "features.monetary.fillna(0, inplace=True)\n",
    "features.recency_3_month.fillna(90, inplace=True)\n",
    "features.frequency_3_month.fillna(0, inplace=True)\n",
    "features.monetary_3_month.fillna(0, inplace=True)\n",
    "features.category_count.fillna(0, inplace=True)\n",
    "features.brand_count.fillna(0, inplace=True)\n",
    "\n",
    "\n",
    "features.head()"
   ]
  },
  {
   "cell_type": "code",
   "execution_count": 231,
   "metadata": {},
   "outputs": [],
   "source": [
    "x_cols = features.columns.to_list()\n",
    "x_cols.remove('active')\n",
    "x_cols.remove('id')\n",
    "y_col = 'active'\n",
    "\n",
    "X = features[x_cols]\n",
    "y = features[y_col]\n",
    "X_train, X_test, y_train, y_test = train_test_split(X, y, test_size=0.20, random_state=seed)"
   ]
  },
  {
   "cell_type": "markdown",
   "metadata": {},
   "source": [
    "## Oversampling"
   ]
  },
  {
   "cell_type": "code",
   "execution_count": 234,
   "metadata": {},
   "outputs": [],
   "source": [
    "oversampler = RandomOverSampler()\n",
    "X_train_resampled, y_train_resampled = oversampler.fit_resample(X_train, y_train)"
   ]
  },
  {
   "cell_type": "code",
   "execution_count": null,
   "metadata": {},
   "outputs": [],
   "source": []
  },
  {
   "cell_type": "code",
   "execution_count": null,
   "metadata": {
    "id": "hMgkSNKcIaSW"
   },
   "outputs": [],
   "source": [
    "# # Generate train/test features\n",
    "# features = train_history.merge(trans_features, on='id', how='left')\n",
    "# features.recency.fillna(365, inplace=True)\n",
    "# features.frequency.fillna(0, inplace=True)\n",
    "# features.monetary.fillna(0, inplace=True)\n",
    "\n",
    "# x_cols = ['recency', 'frequency', 'monetary']\n",
    "# y_col = 'active'\n",
    "\n",
    "# X = features[x_cols]\n",
    "# y = features[y_col]\n",
    "# X_train, X_test, y_train, y_test = train_test_split(X, y, test_size=0.20, random_state=seed)"
   ]
  },
  {
   "cell_type": "code",
   "execution_count": null,
   "metadata": {
    "id": "5KCkRKPsIaSX"
   },
   "outputs": [],
   "source": [
    "# # Generate prediction features (for blind test)\n",
    "# predict_features = test_history.merge(trans_features, on='id', how='left')\n",
    "# predict_features.recency.fillna(365, inplace=True)\n",
    "# predict_features.frequency.fillna(0, inplace=True)\n",
    "# predict_features.monetary.fillna(0, inplace=True)\n",
    "\n",
    "# X_predict = predict_features[x_cols]\n",
    "# predict_out = predict_features[['id', 'active']].copy()"
   ]
  },
  {
   "cell_type": "code",
   "execution_count": null,
   "metadata": {},
   "outputs": [],
   "source": [
    "# predict_features"
   ]
  },
  {
   "cell_type": "markdown",
   "metadata": {
    "id": "gNtWx0TAIaSX"
   },
   "source": [
    "# Build Model"
   ]
  },
  {
   "cell_type": "code",
   "execution_count": null,
   "metadata": {},
   "outputs": [],
   "source": [
    "# enc = OneHotEncoder(handle_unknown='ignore')\n",
    "# enc_df = pd.DataFrame(enc.fit_transform(df[['Category', 'Currency', 'endDay','Duration']]).toarray())\n",
    "# enc_df.columns = enc.get_feature_names_out(['Category', 'Currency', 'endDay','Duration'])\n",
    "# joined_df = df[['sellerRating', 'ClosePrice', 'OpenPrice']].join(enc_df)"
   ]
  },
  {
   "cell_type": "code",
   "execution_count": null,
   "metadata": {},
   "outputs": [],
   "source": [
    "# X = joined_df\n",
    "# y = df[\"Competitive?\"]"
   ]
  },
  {
   "cell_type": "code",
   "execution_count": 235,
   "metadata": {},
   "outputs": [],
   "source": [
    "param_grid = {\n",
    "    'n_estimators': [800],\n",
    "    'max_depth': [20],\n",
    "    'min_samples_split': [10],\n",
    "    'min_samples_leaf': [4]\n",
    "}"
   ]
  },
  {
   "cell_type": "code",
   "execution_count": null,
   "metadata": {},
   "outputs": [],
   "source": [
    "# param_grid = {\n",
    "#     'n_estimators': [100, 200, 500, 800],\n",
    "#     'max_depth': [5, 10, 20, 30, None],\n",
    "#     'min_samples_split': [2, 5, 10],\n",
    "#     'min_samples_leaf': [1, 2, 4, 8]\n",
    "# }"
   ]
  },
  {
   "cell_type": "code",
   "execution_count": 236,
   "metadata": {},
   "outputs": [
    {
     "data": {
      "text/plain": [
       "GridSearchCV(cv=5, estimator=RandomForestClassifier(random_state=84), n_jobs=-1,\n",
       "             param_grid={'max_depth': [20], 'min_samples_leaf': [4],\n",
       "                         'min_samples_split': [10], 'n_estimators': [800]},\n",
       "             scoring='roc_auc')"
      ]
     },
     "execution_count": 236,
     "metadata": {},
     "output_type": "execute_result"
    }
   ],
   "source": [
    "rfc = RandomForestClassifier(random_state=seed)\n",
    "grid_search = GridSearchCV(rfc, param_grid, cv=5, n_jobs=-1, scoring='roc_auc')\n",
    "grid_search.fit(X_train_resampled, y_train_resampled)"
   ]
  },
  {
   "cell_type": "code",
   "execution_count": 237,
   "metadata": {},
   "outputs": [],
   "source": [
    "best_rfc = grid_search.best_estimator_\n",
    "y_pred = best_rfc.predict_proba(X_test)[:, 1]\n",
    "auc = roc_auc_score(y_test, y_pred)"
   ]
  },
  {
   "cell_type": "code",
   "execution_count": 238,
   "metadata": {},
   "outputs": [
    {
     "name": "stdout",
     "output_type": "stream",
     "text": [
      "Best hyperparameters: {'max_depth': 20, 'min_samples_leaf': 4, 'min_samples_split': 10, 'n_estimators': 800}\n",
      "AUC on test set: 0.69\n"
     ]
    }
   ],
   "source": [
    "print(f'Best hyperparameters: {grid_search.best_params_}')\n",
    "print(f'AUC on test set: {auc:.2f}')"
   ]
  },
  {
   "cell_type": "code",
   "execution_count": 184,
   "metadata": {
    "collapsed": true
   },
   "outputs": [
    {
     "name": "stderr",
     "output_type": "stream",
     "text": [
      "C:\\Users\\ddjgy\\anaconda3\\lib\\site-packages\\sklearn\\base.py:493: FutureWarning: The feature names should match those that were passed during fit. Starting version 1.2, an error will be raised.\n",
      "Feature names unseen at fit time:\n",
      "- brand_count\n",
      "- category_count\n",
      "- frequency_3_month\n",
      "- id\n",
      "- monetary_3_month\n",
      "- ...\n",
      "Feature names must be in the same order as they were in fit.\n",
      "\n",
      "  warnings.warn(message, FutureWarning)\n"
     ]
    },
    {
     "ename": "ValueError",
     "evalue": "X has 164 features, but RandomForestClassifier is expecting 3 features as input.",
     "output_type": "error",
     "traceback": [
      "\u001b[1;31m---------------------------------------------------------------------------\u001b[0m",
      "\u001b[1;31mValueError\u001b[0m                                Traceback (most recent call last)",
      "Cell \u001b[1;32mIn [184], line 1\u001b[0m\n\u001b[1;32m----> 1\u001b[0m \u001b[38;5;28mprint\u001b[39m(\u001b[38;5;124m'\u001b[39m\u001b[38;5;124mTest Accuracy: \u001b[39m\u001b[38;5;132;01m{:.2f}\u001b[39;00m\u001b[38;5;124m'\u001b[39m\u001b[38;5;241m.\u001b[39mformat(\u001b[43mmodel\u001b[49m\u001b[38;5;241;43m.\u001b[39;49m\u001b[43mscore\u001b[49m\u001b[43m(\u001b[49m\u001b[43mX_test\u001b[49m\u001b[43m,\u001b[49m\u001b[43m \u001b[49m\u001b[43my_test\u001b[49m\u001b[43m)\u001b[49m))\n\u001b[0;32m      2\u001b[0m \u001b[38;5;28mprint\u001b[39m(\u001b[38;5;124m'\u001b[39m\u001b[38;5;124mTest AUC: \u001b[39m\u001b[38;5;132;01m{:.2f}\u001b[39;00m\u001b[38;5;124m'\u001b[39m\u001b[38;5;241m.\u001b[39mformat(roc_auc_score(y_test, y_pred)))\n",
      "File \u001b[1;32m~\\anaconda3\\lib\\site-packages\\sklearn\\base.py:651\u001b[0m, in \u001b[0;36mClassifierMixin.score\u001b[1;34m(self, X, y, sample_weight)\u001b[0m\n\u001b[0;32m    626\u001b[0m \u001b[38;5;124;03m\"\"\"\u001b[39;00m\n\u001b[0;32m    627\u001b[0m \u001b[38;5;124;03mReturn the mean accuracy on the given test data and labels.\u001b[39;00m\n\u001b[0;32m    628\u001b[0m \n\u001b[1;32m   (...)\u001b[0m\n\u001b[0;32m    647\u001b[0m \u001b[38;5;124;03m    Mean accuracy of ``self.predict(X)`` wrt. `y`.\u001b[39;00m\n\u001b[0;32m    648\u001b[0m \u001b[38;5;124;03m\"\"\"\u001b[39;00m\n\u001b[0;32m    649\u001b[0m \u001b[38;5;28;01mfrom\u001b[39;00m \u001b[38;5;21;01m.\u001b[39;00m\u001b[38;5;21;01mmetrics\u001b[39;00m \u001b[38;5;28;01mimport\u001b[39;00m accuracy_score\n\u001b[1;32m--> 651\u001b[0m \u001b[38;5;28;01mreturn\u001b[39;00m accuracy_score(y, \u001b[38;5;28;43mself\u001b[39;49m\u001b[38;5;241;43m.\u001b[39;49m\u001b[43mpredict\u001b[49m\u001b[43m(\u001b[49m\u001b[43mX\u001b[49m\u001b[43m)\u001b[49m, sample_weight\u001b[38;5;241m=\u001b[39msample_weight)\n",
      "File \u001b[1;32m~\\anaconda3\\lib\\site-packages\\sklearn\\ensemble\\_forest.py:808\u001b[0m, in \u001b[0;36mForestClassifier.predict\u001b[1;34m(self, X)\u001b[0m\n\u001b[0;32m    787\u001b[0m \u001b[38;5;28;01mdef\u001b[39;00m \u001b[38;5;21mpredict\u001b[39m(\u001b[38;5;28mself\u001b[39m, X):\n\u001b[0;32m    788\u001b[0m     \u001b[38;5;124;03m\"\"\"\u001b[39;00m\n\u001b[0;32m    789\u001b[0m \u001b[38;5;124;03m    Predict class for X.\u001b[39;00m\n\u001b[0;32m    790\u001b[0m \n\u001b[1;32m   (...)\u001b[0m\n\u001b[0;32m    806\u001b[0m \u001b[38;5;124;03m        The predicted classes.\u001b[39;00m\n\u001b[0;32m    807\u001b[0m \u001b[38;5;124;03m    \"\"\"\u001b[39;00m\n\u001b[1;32m--> 808\u001b[0m     proba \u001b[38;5;241m=\u001b[39m \u001b[38;5;28;43mself\u001b[39;49m\u001b[38;5;241;43m.\u001b[39;49m\u001b[43mpredict_proba\u001b[49m\u001b[43m(\u001b[49m\u001b[43mX\u001b[49m\u001b[43m)\u001b[49m\n\u001b[0;32m    810\u001b[0m     \u001b[38;5;28;01mif\u001b[39;00m \u001b[38;5;28mself\u001b[39m\u001b[38;5;241m.\u001b[39mn_outputs_ \u001b[38;5;241m==\u001b[39m \u001b[38;5;241m1\u001b[39m:\n\u001b[0;32m    811\u001b[0m         \u001b[38;5;28;01mreturn\u001b[39;00m \u001b[38;5;28mself\u001b[39m\u001b[38;5;241m.\u001b[39mclasses_\u001b[38;5;241m.\u001b[39mtake(np\u001b[38;5;241m.\u001b[39margmax(proba, axis\u001b[38;5;241m=\u001b[39m\u001b[38;5;241m1\u001b[39m), axis\u001b[38;5;241m=\u001b[39m\u001b[38;5;241m0\u001b[39m)\n",
      "File \u001b[1;32m~\\anaconda3\\lib\\site-packages\\sklearn\\ensemble\\_forest.py:850\u001b[0m, in \u001b[0;36mForestClassifier.predict_proba\u001b[1;34m(self, X)\u001b[0m\n\u001b[0;32m    848\u001b[0m check_is_fitted(\u001b[38;5;28mself\u001b[39m)\n\u001b[0;32m    849\u001b[0m \u001b[38;5;66;03m# Check data\u001b[39;00m\n\u001b[1;32m--> 850\u001b[0m X \u001b[38;5;241m=\u001b[39m \u001b[38;5;28;43mself\u001b[39;49m\u001b[38;5;241;43m.\u001b[39;49m\u001b[43m_validate_X_predict\u001b[49m\u001b[43m(\u001b[49m\u001b[43mX\u001b[49m\u001b[43m)\u001b[49m\n\u001b[0;32m    852\u001b[0m \u001b[38;5;66;03m# Assign chunk of trees to jobs\u001b[39;00m\n\u001b[0;32m    853\u001b[0m n_jobs, _, _ \u001b[38;5;241m=\u001b[39m _partition_estimators(\u001b[38;5;28mself\u001b[39m\u001b[38;5;241m.\u001b[39mn_estimators, \u001b[38;5;28mself\u001b[39m\u001b[38;5;241m.\u001b[39mn_jobs)\n",
      "File \u001b[1;32m~\\anaconda3\\lib\\site-packages\\sklearn\\ensemble\\_forest.py:579\u001b[0m, in \u001b[0;36mBaseForest._validate_X_predict\u001b[1;34m(self, X)\u001b[0m\n\u001b[0;32m    576\u001b[0m \u001b[38;5;124;03m\"\"\"\u001b[39;00m\n\u001b[0;32m    577\u001b[0m \u001b[38;5;124;03mValidate X whenever one tries to predict, apply, predict_proba.\"\"\"\u001b[39;00m\n\u001b[0;32m    578\u001b[0m check_is_fitted(\u001b[38;5;28mself\u001b[39m)\n\u001b[1;32m--> 579\u001b[0m X \u001b[38;5;241m=\u001b[39m \u001b[38;5;28;43mself\u001b[39;49m\u001b[38;5;241;43m.\u001b[39;49m\u001b[43m_validate_data\u001b[49m\u001b[43m(\u001b[49m\u001b[43mX\u001b[49m\u001b[43m,\u001b[49m\u001b[43m \u001b[49m\u001b[43mdtype\u001b[49m\u001b[38;5;241;43m=\u001b[39;49m\u001b[43mDTYPE\u001b[49m\u001b[43m,\u001b[49m\u001b[43m \u001b[49m\u001b[43maccept_sparse\u001b[49m\u001b[38;5;241;43m=\u001b[39;49m\u001b[38;5;124;43m\"\u001b[39;49m\u001b[38;5;124;43mcsr\u001b[39;49m\u001b[38;5;124;43m\"\u001b[39;49m\u001b[43m,\u001b[49m\u001b[43m \u001b[49m\u001b[43mreset\u001b[49m\u001b[38;5;241;43m=\u001b[39;49m\u001b[38;5;28;43;01mFalse\u001b[39;49;00m\u001b[43m)\u001b[49m\n\u001b[0;32m    580\u001b[0m \u001b[38;5;28;01mif\u001b[39;00m issparse(X) \u001b[38;5;129;01mand\u001b[39;00m (X\u001b[38;5;241m.\u001b[39mindices\u001b[38;5;241m.\u001b[39mdtype \u001b[38;5;241m!=\u001b[39m np\u001b[38;5;241m.\u001b[39mintc \u001b[38;5;129;01mor\u001b[39;00m X\u001b[38;5;241m.\u001b[39mindptr\u001b[38;5;241m.\u001b[39mdtype \u001b[38;5;241m!=\u001b[39m np\u001b[38;5;241m.\u001b[39mintc):\n\u001b[0;32m    581\u001b[0m     \u001b[38;5;28;01mraise\u001b[39;00m \u001b[38;5;167;01mValueError\u001b[39;00m(\u001b[38;5;124m\"\u001b[39m\u001b[38;5;124mNo support for np.int64 index based sparse matrices\u001b[39m\u001b[38;5;124m\"\u001b[39m)\n",
      "File \u001b[1;32m~\\anaconda3\\lib\\site-packages\\sklearn\\base.py:585\u001b[0m, in \u001b[0;36mBaseEstimator._validate_data\u001b[1;34m(self, X, y, reset, validate_separately, **check_params)\u001b[0m\n\u001b[0;32m    582\u001b[0m     out \u001b[38;5;241m=\u001b[39m X, y\n\u001b[0;32m    584\u001b[0m \u001b[38;5;28;01mif\u001b[39;00m \u001b[38;5;129;01mnot\u001b[39;00m no_val_X \u001b[38;5;129;01mand\u001b[39;00m check_params\u001b[38;5;241m.\u001b[39mget(\u001b[38;5;124m\"\u001b[39m\u001b[38;5;124mensure_2d\u001b[39m\u001b[38;5;124m\"\u001b[39m, \u001b[38;5;28;01mTrue\u001b[39;00m):\n\u001b[1;32m--> 585\u001b[0m     \u001b[38;5;28;43mself\u001b[39;49m\u001b[38;5;241;43m.\u001b[39;49m\u001b[43m_check_n_features\u001b[49m\u001b[43m(\u001b[49m\u001b[43mX\u001b[49m\u001b[43m,\u001b[49m\u001b[43m \u001b[49m\u001b[43mreset\u001b[49m\u001b[38;5;241;43m=\u001b[39;49m\u001b[43mreset\u001b[49m\u001b[43m)\u001b[49m\n\u001b[0;32m    587\u001b[0m \u001b[38;5;28;01mreturn\u001b[39;00m out\n",
      "File \u001b[1;32m~\\anaconda3\\lib\\site-packages\\sklearn\\base.py:400\u001b[0m, in \u001b[0;36mBaseEstimator._check_n_features\u001b[1;34m(self, X, reset)\u001b[0m\n\u001b[0;32m    397\u001b[0m     \u001b[38;5;28;01mreturn\u001b[39;00m\n\u001b[0;32m    399\u001b[0m \u001b[38;5;28;01mif\u001b[39;00m n_features \u001b[38;5;241m!=\u001b[39m \u001b[38;5;28mself\u001b[39m\u001b[38;5;241m.\u001b[39mn_features_in_:\n\u001b[1;32m--> 400\u001b[0m     \u001b[38;5;28;01mraise\u001b[39;00m \u001b[38;5;167;01mValueError\u001b[39;00m(\n\u001b[0;32m    401\u001b[0m         \u001b[38;5;124mf\u001b[39m\u001b[38;5;124m\"\u001b[39m\u001b[38;5;124mX has \u001b[39m\u001b[38;5;132;01m{\u001b[39;00mn_features\u001b[38;5;132;01m}\u001b[39;00m\u001b[38;5;124m features, but \u001b[39m\u001b[38;5;132;01m{\u001b[39;00m\u001b[38;5;28mself\u001b[39m\u001b[38;5;241m.\u001b[39m\u001b[38;5;18m__class__\u001b[39m\u001b[38;5;241m.\u001b[39m\u001b[38;5;18m__name__\u001b[39m\u001b[38;5;132;01m}\u001b[39;00m\u001b[38;5;124m \u001b[39m\u001b[38;5;124m\"\u001b[39m\n\u001b[0;32m    402\u001b[0m         \u001b[38;5;124mf\u001b[39m\u001b[38;5;124m\"\u001b[39m\u001b[38;5;124mis expecting \u001b[39m\u001b[38;5;132;01m{\u001b[39;00m\u001b[38;5;28mself\u001b[39m\u001b[38;5;241m.\u001b[39mn_features_in_\u001b[38;5;132;01m}\u001b[39;00m\u001b[38;5;124m features as input.\u001b[39m\u001b[38;5;124m\"\u001b[39m\n\u001b[0;32m    403\u001b[0m     )\n",
      "\u001b[1;31mValueError\u001b[0m: X has 164 features, but RandomForestClassifier is expecting 3 features as input."
     ]
    }
   ],
   "source": [
    "print('Test Accuracy: {:.2f}'.format(model.score(X_test, y_test)))\n",
    "print('Test AUC: {:.2f}'.format(roc_auc_score(y_test, y_pred)))"
   ]
  },
  {
   "cell_type": "code",
   "execution_count": null,
   "metadata": {},
   "outputs": [],
   "source": []
  },
  {
   "cell_type": "code",
   "execution_count": null,
   "metadata": {},
   "outputs": [],
   "source": []
  },
  {
   "cell_type": "code",
   "execution_count": null,
   "metadata": {},
   "outputs": [],
   "source": []
  },
  {
   "cell_type": "code",
   "execution_count": null,
   "metadata": {},
   "outputs": [],
   "source": [
    "# model = RandomForestClassifier(100, random_state=seed)\n",
    "# model.fit(X_train, y_train)"
   ]
  },
  {
   "cell_type": "code",
   "execution_count": 100,
   "metadata": {
    "id": "Dtn4fY4yIaSY"
   },
   "outputs": [
    {
     "name": "stdout",
     "output_type": "stream",
     "text": [
      "Test Accuracy: 0.78\n",
      "Test AUC: 0.52\n"
     ]
    }
   ],
   "source": [
    "# print('Test Accuracy: {:.2f}'.format(model.score(X_test, y_test)))\n",
    "# print('Test AUC: {:.2f}'.format(roc_auc_score(y_test, model.predict_proba(X_test)[:, 1])))"
   ]
  },
  {
   "cell_type": "markdown",
   "metadata": {
    "id": "SIJGxsv3IaSY"
   },
   "source": [
    "# Generate Prediction"
   ]
  },
  {
   "cell_type": "code",
   "execution_count": 90,
   "metadata": {
    "id": "u4TZZ-xPIaSZ"
   },
   "outputs": [
    {
     "data": {
      "text/html": [
       "<div>\n",
       "<style scoped>\n",
       "    .dataframe tbody tr th:only-of-type {\n",
       "        vertical-align: middle;\n",
       "    }\n",
       "\n",
       "    .dataframe tbody tr th {\n",
       "        vertical-align: top;\n",
       "    }\n",
       "\n",
       "    .dataframe thead th {\n",
       "        text-align: right;\n",
       "    }\n",
       "</style>\n",
       "<table border=\"1\" class=\"dataframe\">\n",
       "  <thead>\n",
       "    <tr style=\"text-align: right;\">\n",
       "      <th></th>\n",
       "      <th>id</th>\n",
       "      <th>active</th>\n",
       "    </tr>\n",
       "  </thead>\n",
       "  <tbody>\n",
       "    <tr>\n",
       "      <th>0</th>\n",
       "      <td>250462324156</td>\n",
       "      <td>NaN</td>\n",
       "    </tr>\n",
       "    <tr>\n",
       "      <th>1</th>\n",
       "      <td>61214568335</td>\n",
       "      <td>NaN</td>\n",
       "    </tr>\n",
       "    <tr>\n",
       "      <th>2</th>\n",
       "      <td>274776763999</td>\n",
       "      <td>NaN</td>\n",
       "    </tr>\n",
       "    <tr>\n",
       "      <th>3</th>\n",
       "      <td>91546215019</td>\n",
       "      <td>NaN</td>\n",
       "    </tr>\n",
       "    <tr>\n",
       "      <th>4</th>\n",
       "      <td>220718580189</td>\n",
       "      <td>NaN</td>\n",
       "    </tr>\n",
       "  </tbody>\n",
       "</table>\n",
       "</div>"
      ],
      "text/plain": [
       "             id  active\n",
       "0  250462324156     NaN\n",
       "1   61214568335     NaN\n",
       "2  274776763999     NaN\n",
       "3   91546215019     NaN\n",
       "4  220718580189     NaN"
      ]
     },
     "execution_count": 90,
     "metadata": {},
     "output_type": "execute_result"
    }
   ],
   "source": [
    "predict_out.head()"
   ]
  },
  {
   "cell_type": "code",
   "execution_count": 91,
   "metadata": {
    "id": "5_yNT76IIaSZ"
   },
   "outputs": [
    {
     "data": {
      "text/html": [
       "<div>\n",
       "<style scoped>\n",
       "    .dataframe tbody tr th:only-of-type {\n",
       "        vertical-align: middle;\n",
       "    }\n",
       "\n",
       "    .dataframe tbody tr th {\n",
       "        vertical-align: top;\n",
       "    }\n",
       "\n",
       "    .dataframe thead th {\n",
       "        text-align: right;\n",
       "    }\n",
       "</style>\n",
       "<table border=\"1\" class=\"dataframe\">\n",
       "  <thead>\n",
       "    <tr style=\"text-align: right;\">\n",
       "      <th></th>\n",
       "      <th>id</th>\n",
       "      <th>active</th>\n",
       "    </tr>\n",
       "  </thead>\n",
       "  <tbody>\n",
       "    <tr>\n",
       "      <th>0</th>\n",
       "      <td>250462324156</td>\n",
       "      <td>0.05</td>\n",
       "    </tr>\n",
       "    <tr>\n",
       "      <th>1</th>\n",
       "      <td>61214568335</td>\n",
       "      <td>0.45</td>\n",
       "    </tr>\n",
       "    <tr>\n",
       "      <th>2</th>\n",
       "      <td>274776763999</td>\n",
       "      <td>0.18</td>\n",
       "    </tr>\n",
       "    <tr>\n",
       "      <th>3</th>\n",
       "      <td>91546215019</td>\n",
       "      <td>0.06</td>\n",
       "    </tr>\n",
       "    <tr>\n",
       "      <th>4</th>\n",
       "      <td>220718580189</td>\n",
       "      <td>0.43</td>\n",
       "    </tr>\n",
       "  </tbody>\n",
       "</table>\n",
       "</div>"
      ],
      "text/plain": [
       "             id  active\n",
       "0  250462324156    0.05\n",
       "1   61214568335    0.45\n",
       "2  274776763999    0.18\n",
       "3   91546215019    0.06\n",
       "4  220718580189    0.43"
      ]
     },
     "execution_count": 91,
     "metadata": {},
     "output_type": "execute_result"
    }
   ],
   "source": [
    "predict_out['active'] = model.predict_proba(X_predict)[:, 1]\n",
    "predict_out.head()"
   ]
  },
  {
   "cell_type": "code",
   "execution_count": 92,
   "metadata": {
    "id": "GUnz-r4vIaSa"
   },
   "outputs": [
    {
     "data": {
      "text/html": [
       "<div>\n",
       "<style scoped>\n",
       "    .dataframe tbody tr th:only-of-type {\n",
       "        vertical-align: middle;\n",
       "    }\n",
       "\n",
       "    .dataframe tbody tr th {\n",
       "        vertical-align: top;\n",
       "    }\n",
       "\n",
       "    .dataframe thead th {\n",
       "        text-align: right;\n",
       "    }\n",
       "</style>\n",
       "<table border=\"1\" class=\"dataframe\">\n",
       "  <thead>\n",
       "    <tr style=\"text-align: right;\">\n",
       "      <th></th>\n",
       "      <th>id</th>\n",
       "      <th>active</th>\n",
       "    </tr>\n",
       "  </thead>\n",
       "  <tbody>\n",
       "    <tr>\n",
       "      <th>0</th>\n",
       "      <td>250462324156</td>\n",
       "      <td>0.05</td>\n",
       "    </tr>\n",
       "    <tr>\n",
       "      <th>1</th>\n",
       "      <td>61214568335</td>\n",
       "      <td>0.45</td>\n",
       "    </tr>\n",
       "    <tr>\n",
       "      <th>2</th>\n",
       "      <td>274776763999</td>\n",
       "      <td>0.18</td>\n",
       "    </tr>\n",
       "    <tr>\n",
       "      <th>3</th>\n",
       "      <td>91546215019</td>\n",
       "      <td>0.06</td>\n",
       "    </tr>\n",
       "    <tr>\n",
       "      <th>4</th>\n",
       "      <td>220718580189</td>\n",
       "      <td>0.43</td>\n",
       "    </tr>\n",
       "  </tbody>\n",
       "</table>\n",
       "</div>"
      ],
      "text/plain": [
       "             id  active\n",
       "0  250462324156    0.05\n",
       "1   61214568335    0.45\n",
       "2  274776763999    0.18\n",
       "3   91546215019    0.06\n",
       "4  220718580189    0.43"
      ]
     },
     "execution_count": 92,
     "metadata": {},
     "output_type": "execute_result"
    }
   ],
   "source": [
    "predict_out.to_csv('predict.csv', header=True, index=False)\n",
    "predict_out.head()"
   ]
  },
  {
   "cell_type": "code",
   "execution_count": 93,
   "metadata": {
    "id": "p2E4EKhCWEC5"
   },
   "outputs": [],
   "source": [
    "# This will download your prediction files\n",
    "# from google.colab import files\n",
    "# files.download('predict.csv')"
   ]
  },
  {
   "cell_type": "code",
   "execution_count": null,
   "metadata": {
    "id": "v_apbo96PgcM"
   },
   "outputs": [],
   "source": []
  }
 ],
 "metadata": {
  "colab": {
   "collapsed_sections": [],
   "name": "Assignment 3 - Example.ipynb",
   "provenance": []
  },
  "kernelspec": {
   "display_name": "Python 3 (ipykernel)",
   "language": "python",
   "name": "python3"
  },
  "language_info": {
   "codemirror_mode": {
    "name": "ipython",
    "version": 3
   },
   "file_extension": ".py",
   "mimetype": "text/x-python",
   "name": "python",
   "nbconvert_exporter": "python",
   "pygments_lexer": "ipython3",
   "version": "3.9.15"
  }
 },
 "nbformat": 4,
 "nbformat_minor": 1
}
